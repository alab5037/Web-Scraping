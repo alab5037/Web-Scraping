{
 "cells": [
  {
   "cell_type": "markdown",
   "metadata": {},
   "source": [
    "# 1. Introduction"
   ]
  },
  {
   "cell_type": "markdown",
   "metadata": {},
   "source": [
    "In this project, my objective is to juxtapose how climate change is viewed by the left and the right in the United States. This is a follow up to a previous project in which I analyzed whether energy portfolios differed between red states and blue states (https://github.com/alab5037/Red-or-Blue/blob/master/Report%20(update).pdf ). Here's an excerpt from the paper regarding the conclusion of my study:\n",
    "\n",
    "\"In conclusion, this study makes a strong case that blue states generate more electricity from biomass than red states. It can be argued that red states generate more power from coal compared to blue states, but the argument is a bit more tenuous considering the significance level for the covariate coal in Table 1 of the logistic regression model.\"\n",
    "\n",
    "As stated above, I found evidence that energy policies differ between red and blue states as it pertains to clean/renewable energy--particularly, the adoption of biomass energy (waste, biofuels, etc.). Renewable energy proliferation is directly related to climate change since they are \"net-zero\", meaning that carbon dioxide and other greenhouse gas emissions are reduced 100% (Sims, 2003). To follow up on this research, I thought it would be interesting to further explore the political divide surrounding climate change. This time, I would like to get a better understanding of why it exists and where we stand today. To obtain insight on these questions, I explore the rhetoric of climate change articles from two mass media sites on different sides of the political spectrum: Fox News (right) and the Huffington Post (left). Fox News has been alleged by many to have a Republican Party bias in their news coverage; thus, it will be used as the right leaning media outlet in this study. Conversely, the Huffington Post has been said to be a liberal news and information site; hence, it will serve as the left leaning media outlet in this study. Where these media outlets lie on the political spectrum can be viewed in the following link: https://guides.lib.umich.edu/c.php?g=637508&p=4462444. \n",
    "\n",
    "Previous studies suggest that the conservative media tends to downplay climate change. For example, a 2007 and 2008 analysis found that Fox News takes a more dismissive tone towards climate change than CNN and MSNBC, which are both left leaning (Feldman, Lauren, et al., 2011). Interestingly, this seems to have quite an influence on how conservatives perceive climate change. In a 2010 Gallup survey of 1,014 adults in the U.S., 74% of liberals agreed that “effects of global warming are already occurring,” whereas only 30% of conservatives concurred (Jones, 2010). In this study, I would like to confirm whether these findings still hold true in 2019. If the message surrounding climate change proves to be different between both media outlets, then it would suggest that this divide still exists. This might also explain why energy portfolios differ between blue and red states as evidence shows that the media impacts how people vote. For instance, a 2007 paper, titled, \"The Fox News Effect: Media Bias and Voting,\" found that the introduction of Fox News to cable programming led to an increase in the share of votes in Presidential elections between 1996 and 2000. In particular, Republicans gained 0.4 to 0.7 percentage points in the towns that broadcast Fox News (DellaVigna and Kaplan, 2007). \n",
    "\n",
    "Ultimately, the goal of this study is not to point fingers at any one party. I think that both sides bare responsibility for the current state of affairs. As mentioned before, studies have shown that right leaning media outlets tend to be more dismissive of climate change. However, it is also said that liberals push too hard and exaggerate climate change fears which can be counterproductive (Kreutzer, 2016). I hope that my results can help to stress that tackling climate change requires political unity. If both sides of the political spectrum cannot align, it will be arduous to take effective action against climate change. \n",
    "\n",
    "To begin my study, I will first scrape climate change related articles from both Fox News and the Huffington Post. Once I’ve gathered this information, I will build statistical models to determine whether I can predict the source of the article based on the entire text of the article. A succesful model would point out these two political factions have different agendas when it comes to climate change."
   ]
  },
  {
   "cell_type": "markdown",
   "metadata": {},
   "source": [
    "# 2.1 Scraping Fox News"
   ]
  },
  {
   "cell_type": "markdown",
   "metadata": {},
   "source": [
    "First, I scraped articles from Fox News' climate change section. In the cell below, I create a function that allows me to load articles on the climate change section. This can be done by manipulating the offset parameter. I also include the JSON decoder in order to simplify the formatting of the page."
   ]
  },
  {
   "cell_type": "code",
   "execution_count": 1,
   "metadata": {},
   "outputs": [],
   "source": [
    "import pandas as pd\n",
    "import requests\n",
    "import json\n",
    "from pandas.io.json import json_normalize\n",
    "\n",
    "def fox_df(offset):\n",
    "    url = (\"https://www.foxnews.com/api/article-search?isCategory=false&isTag=true&isKeyword=false&\"\n",
    "    \"isFixed=false&isFeedUrl=false&searchSelected=fox-news%2Fus%2Fenvironment%2Fclimate-change&contentTypes=%7B\"\n",
    "    \"%22interactive%22:true,%22slideshow%22:true,%22video%22:true,%22article%22:true%7D&\"\n",
    "    \"size=30&offset=0\")\n",
    "    \n",
    "    url = url.replace('offset=0', 'offset=%s' % offset)\n",
    "    \n",
    "    r_fox = requests.get(url)\n",
    "    new_df_fox = json_normalize(r_fox.json())\n",
    "    \n",
    "    return new_df_fox"
   ]
  },
  {
   "cell_type": "markdown",
   "metadata": {},
   "source": [
    "Next, I generate a loop that loads 500 articles in batches of 30. The articles are in chronological order, so, the first 30 loaded, for example, will be the 30 most recently posted articles on Fox News. These articles are then all store in a dataframe, foxdf."
   ]
  },
  {
   "cell_type": "code",
   "execution_count": 2,
   "metadata": {},
   "outputs": [],
   "source": [
    "from time import sleep # for pausing\n",
    "\n",
    "# create empty dataframe to store results\n",
    "foxdf = pd.DataFrame() \n",
    "\n",
    "# Create a loop that counts up by 30.\n",
    "for offset in range(0, 500, 30):\n",
    "    new_df = fox_df(offset)\n",
    "    \n",
    "    # Add the new results to the existing database\n",
    "    foxdf = foxdf.append(new_df, ignore_index=True)\n",
    "    \n",
    "    # Pause for three seconds to be polite to the web server\n",
    "    sleep(3)"
   ]
  },
  {
   "cell_type": "markdown",
   "metadata": {},
   "source": [
    "284 articles were loaded in the dataframe, meaning that only 284 were available on Fox News. Nonetheless, this should be ample for this analysis. However, I don't find that the available variables will serve as very good predictors for my model. For example, descriptions and titles do not seem to contain enough information to differentiate between Fox News and Huffington Post. As a result, I will retrieve the text of the articles in subsequent steps since these will be rich with information. Lastly, in the dataframe above, publisher information is not clearly available. This is ultimately what I want to serve as my dependent variable in my model. Therefore, I will create a new column for publisher."
   ]
  },
  {
   "cell_type": "code",
   "execution_count": 3,
   "metadata": {},
   "outputs": [],
   "source": [
    "foxdf #add a column for publisher = 'fox'\n",
    "foxdf['publisher']='fox'"
   ]
  },
  {
   "cell_type": "markdown",
   "metadata": {},
   "source": [
    "To retrieve text from each individual article, I create a list containing the links from the 'url' column in the fox dataframe. I notice, however, that some of these links direct you to videos, which, of course, don't contain much text. Hence, I will first remove links from the dataframe that are videos. These are identified by containing \"https\" in the url. After doing so, the dataframe has been reduce to 222 articles. I also need to change the index of the newly created dataframe, rm_video, to have consecutive numbers or else the loop won't work."
   ]
  },
  {
   "cell_type": "code",
   "execution_count": 4,
   "metadata": {},
   "outputs": [],
   "source": [
    "#remove rows that include video links in url\n",
    "rm_video=foxdf[~foxdf.url.str.contains(\"https\")]\n",
    "#change index to have consecutive numbers \n",
    "rm_video.index = range(len(rm_video))"
   ]
  },
  {
   "cell_type": "markdown",
   "metadata": {},
   "source": [
    "Below, I create a loop that stores links in a list."
   ]
  },
  {
   "cell_type": "code",
   "execution_count": 5,
   "metadata": {},
   "outputs": [
    {
     "name": "stdout",
     "output_type": "stream",
     "text": [
      "https://www.foxnews.com/politics/sen-joe-manchin-bloombergs-carbon-initiative-would-punish-west-virginians\n",
      "https://www.foxnews.com/politics/mini-aoc-releases-re-election-video-mocking-the-new-york-congresswoman\n",
      "https://www.foxnews.com/politics/coal-state-dem-slams-bloomberg-for-climate-initiative\n",
      "https://www.foxnews.com/politics/green-new-deal-architect-says-climate-change-can-lead-to-25-holocausts\n",
      "https://www.foxnews.com/entertainment/bill-nye-world-climate-change-d-day\n",
      "https://www.foxnews.com/opinion/liz-peek-joe-biden-climate-plan-ocasio-cortez-democrats-frontrunner\n",
      "https://www.foxnews.com/politics/joe-biden-matt-gaetz-2020-democrat-old-tired\n",
      "https://www.foxnews.com/politics/biden-unveils-wide-ranging-climate-change-plan-that-uses-green-new-deal-as-crucial-framework\n",
      "https://www.foxnews.com/politics/green-new-deal-could-have-dems-facing-blue-collar-backlash-at-polls-some-say\n",
      "https://www.foxnews.com/opinion/roy-spencer-tornadoes-ohio-ocasio-cortez-sanders\n",
      "https://www.foxnews.com/politics/aoc-dc-tornado-warning-links-climate-change\n",
      "https://www.foxnews.com/politics/ocasio-cortez-doomsday-claim-world-end-poll-shows-67-percent-of-dems\n",
      "https://www.foxnews.com/us/us-says-trump-coal-moves-hasten-but-dont-increase-emissions\n",
      "https://www.foxnews.com/opinion/reuben-franco-progressive-lefts-big-green-dreams-pose-nightmares-for-struggling-americans\n",
      "https://www.foxnews.com/politics/ocasio-cortez-growing-cauliflower-colonial\n",
      "https://www.foxnews.com/politics/joe-biden-climate-change-activists\n",
      "https://www.foxnews.com/opinion/katie-tahuahua-energy-freedom\n",
      "https://www.foxnews.com/politics/jay-inslee-plan-9-trillion-to-battle-climate-change\n",
      "https://www.foxnews.com/politics/biden-defends-his-climate-record-after-ocasio-cortez-criticism-tells-critics-to-calm-down\n",
      "https://www.foxnews.com/politics/rush-limbaugh-ocasio-cortez-climate-change\n",
      "https://www.foxnews.com/politics/jesse-watters-dems-global-warming-bill-nye\n",
      "https://www.foxnews.com/opinion/justin-haskins-green-new-deal-backers-attack-biden-say-hes-not-extreme-enough\n",
      "https://www.foxnews.com/opinion/joe-bastardi-green-new-deal-is-a-recipe-for-economic-disaster-that-would-hurt-every-american\n",
      "https://www.foxnews.com/politics/ocasio-cortez-assails-bidens-middle-ground-climate-change-plan-says-its-dealbreaker\n",
      "https://www.foxnews.com/entertainment/msnbc-climate-change-alien-invasion\n",
      "https://www.foxnews.com/opinion/gutfeld-on-betos-5-trillion-plan-to-save-the-earth\n",
      "https://www.foxnews.com/politics/watters-on-betos-climate-plan-hes-a-scam-artist-who-feels-guilty-about-americas-economic-success\n",
      "https://www.foxnews.com/opinion/trump-paris-climate-accord-democrats\n",
      "https://www.foxnews.com/politics/california-gov-newsom-facing-new-pressure-from-environmental-groups-to-block-drilling-fracking\n",
      "https://www.foxnews.com/opinion/tomi-lahren-california-homeless-climate-change-activists\n",
      "https://www.foxnews.com/entertainment/alec-baldwin-is-passionate-about-preserving-the-planet\n",
      "https://www.foxnews.com/entertainment/cbs-climate-change-earth-day-gayle-king\n",
      "https://www.foxnews.com/opinion/joe-bastardi-hurricanes-happen-whether-they-are-politically-exploited-by-climate-change-activists-or-not\n",
      "https://www.foxnews.com/us/activists-universal-studios-globe-california-climate-change\n",
      "https://www.foxnews.com/world/climate-change-protesters-announce-shift-to-political-negotiations-after-week-long-demonstrations-in-london\n",
      "https://www.foxnews.com/politics/aoc-narrates-video-from-future-in-which-her-green-new-deal-saves-us-from-environmental-catastrophe\n",
      "https://www.foxnews.com/world/climate-change-protest-london-glue-dlr-train\n",
      "https://www.foxnews.com/politics/john-kerry-thomas-massie-climate-change\n",
      "https://www.foxnews.com/politics/aocs-linkage-of-climate-change-and-border-situation-ridiculous-crenshaw-says\n",
      "https://www.foxnews.com/science/toxic-masculinity-melting-polar-ice-caps-mark-steyn-doubts\n",
      "https://www.foxnews.com/politics/ocasio-cortez-likens-gop-to-exorcist-girl\n",
      "https://www.foxnews.com/us/global-warming-bringing-you-down-washington-state-offers-course-on-eco-anxiety-climate-grief\n",
      "https://www.foxnews.com/opinion/joe-bastardi-climate-change-agenda-is-being-driven-by-hysteria-not-facts\n",
      "https://www.foxnews.com/politics/2020-hopeful-gov-jay-inslee-challenges-president-trump-to-release-tax-returns\n",
      "https://www.foxnews.com/us/un-report-extreme-weather-hit-62-million-people-in-2018\n",
      "https://www.foxnews.com/opinion/sen-lamar-alexander-green-new-deal-would-cost-trillions-annually-heres-a-better-idea\n",
      "https://www.foxnews.com/politics/ocasio-cortez-blasts-upcoming-bluff-vote-on-green-new-deal\n",
      "https://www.foxnews.com/politics/ocasio-cortez-trump-nematode\n",
      "https://www.foxnews.com/opinion/climate-change-is-real-but-the-green-new-deal-isnt-the-solution\n",
      "https://www.foxnews.com/politics/de-blasio-pitching-10b-climate-change-plan-blames-global-warming-for-hurricane-sandy\n",
      "https://www.foxnews.com/politics/al-gore-says-climate-change-can-bring-about-the-end-of-civilization-during-talk-in-atlanta-report\n",
      "https://www.foxnews.com/opinion/if-we-ignore-costs-of-climate-regulation-on-average-americans-we-risk-a-catastrophe\n",
      "https://www.foxnews.com/science/birth-strike-founder-argues-future-too-frightening-for-her-to-have-children-climate-change\n",
      "https://www.foxnews.com/politics/former-coal-lobbyist-andrew-wheeler-confirmed-as-new-epa-administrator\n",
      "https://www.foxnews.com/politics/despite-green-new-deal-push-climate-change-not-a-high-priority-for-people-in-2019\n",
      "https://www.foxnews.com/politics/even-moderates-skeptical-of-green-new-deals-climate-change-recommendations\n",
      "https://www.foxnews.com/politics/democrats-could-use-national-emergency-declaration-for-climate-gun-control\n",
      "https://www.foxnews.com/politics/schumer-fumes-over-mcconnell-plan-to-bring-green-new-deal-to-vote-calls-it-cynical-ploy\n",
      "https://www.foxnews.com/opinion/the-green-new-deal-is-already-a-success-america-heres-why-i-support-it\n",
      "https://www.foxnews.com/politics/alexandria-ocasio-cortez-calls-green-new-deal-a-life-and-death-issue-attacks-gop-on-climate-change\n",
      "https://www.foxnews.com/opinion/tomi-lahren-the-democratic-party-is-absolutely-unarguably-out-of-its-mind\n",
      "https://www.foxnews.com/opinion/tucker-carlson-dems-pushing-the-green-new-deal-havent-learned-anything-about-it-energy-matters\n",
      "https://www.foxnews.com/us/trump-warns-midwest-of-freezing-temperatures-asks-global-warming-come-back-fast-we-need-you\n",
      "https://www.foxnews.com/opinion/stuart-varney-alexandria-ocasio-cortezs-statement-on-climate-change-is-mind-boggling\n",
      "https://www.foxnews.com/opinion/physicist-dont-fall-for-the-argument-about-settled-science\n",
      "https://www.foxnews.com/politics/head-of-house-dems-new-climate-change-committee-invested-tens-of-thousands-in-big-polluters\n",
      "https://www.foxnews.com/us/california-is-first-state-to-mandate-zero-emission-bus-fleet\n",
      "https://www.foxnews.com/politics/environmental-activists-arrested-pelosi-capitol-hill-office\n",
      "https://www.foxnews.com/opinion/liz-peek-ocasio-cortez-backs-green-policies-that-would-hurt-the-poor-and-cripple-our-economy\n",
      "https://www.foxnews.com/opinion/france-protests-and-the-yellow-vests-deep-anger-reveal-the-hypocrisy-at-the-heart-of-the-green-agenda\n",
      "https://www.foxnews.com/science/carbon-dioxide-emissions-rise-in-2018-scientists-say\n",
      "https://www.foxnews.com/entertainment/kelsey-grammer-wife-kayte-think-climate-change-is-a-hoax\n",
      "https://www.foxnews.com/us/ap-fact-check-11-trump-climate-goofs-and-1-correct-claim\n",
      "https://www.foxnews.com/science/new-orleans-looks-underground-as-parts-of-city-slowly-sink\n",
      "https://www.foxnews.com/politics/al-gore-blasts-trump-for-burying-climate-report-by-releasing-it-on-black-friday\n",
      "https://www.foxnews.com/politics/climate-report-warns-of-grim-economic-consequences-more-weather-disasters-in-us\n",
      "https://www.foxnews.com/us/houston-skyscrapers-may-have-worsened-hurricane-harvey-rain\n",
      "https://www.foxnews.com/politics/ocasio-cortez-joins-climate-change-protesters-outside-pelosis-office-during-first-day-on-capitol-hill\n",
      "https://www.foxnews.com/us/scientists-wind-drought-worsen-fires-not-bad-management\n",
      "https://www.foxnews.com/us/death-toll-rises-in-california-wildfire-matching-deadliest\n",
      "https://www.foxnews.com/politics/trump-hedges-on-climate-change-denial-in-wake-of-hurricane-michael-says-there-is-something-there\n",
      "https://www.foxnews.com/us/biosphere-2-legacy-lives-on-more-than-quarter-century-later\n",
      "https://www.foxnews.com/us/fast-furious-how-michael-grew-into-a-155-mph-monster\n",
      "https://www.foxnews.com/science/terrifying-climate-change-warning-12-years-until-were-doomed\n",
      "https://www.foxnews.com/us/warm-waters-boosted-2017s-major-hurricane-tally-study-says\n",
      "https://www.foxnews.com/us/florence-is-nations-second-wettest-storm-behind-harvey\n",
      "https://www.foxnews.com/us/scientists-worlds-warming-expect-more-intense-hurricanes\n",
      "https://www.foxnews.com/us/whats-happening-tree-falling-in-florence-kills-mom-baby\n",
      "https://www.foxnews.com/us/a-warmer-world-makes-hurricanes-wetter-and-more-intense\n",
      "https://www.foxnews.com/entertainment/harrison-ford-urges-voters-to-stop-giving-power-to-people-who-dont-believe-in-science\n",
      "https://www.foxnews.com/us/threat-becomes-reality-florence-begins-days-of-rain-wind\n",
      "https://www.foxnews.com/us/after-florence-barrier-islands-still-doomed-by-rising-sea\n",
      "https://www.foxnews.com/politics/california-vs-trump-new-state-laws-take-on-climate-change-and-white-house-energy-agenda\n",
      "https://www.foxnews.com/us/not-a-pretty-sight-hurricane-florence-has-experts-worried\n",
      "https://www.foxnews.com/us/ap-explains-why-north-carolina-is-vulnerable-to-hurricanes\n",
      "https://www.foxnews.com/us/hurricane-florence-has-ingredients-that-make-experts-worry\n",
      "https://www.foxnews.com/us/los-angeles-paris-mayors-talk-climate-homeless-olympics\n",
      "https://www.foxnews.com/us/ap-explains-why-north-carolina-is-vulnerable-to-hurricanes\n",
      "https://www.foxnews.com/us/ap-explains-driven-by-climate-change-fire-reshapes-us-west\n",
      "https://www.foxnews.com/us/science-says-hawaii-hurricanes-rare-but-getting-less-so\n",
      "https://www.foxnews.com/politics/trump-epa-overhauls-obama-era-regulations-for-coal-fired-power-plants\n",
      "https://www.foxnews.com/us/study-climate-change-possible-cause-of-bird-species-decline\n",
      "https://www.foxnews.com/us/science-says-hotter-weather-turbocharges-us-west-wildfires\n",
      "https://www.foxnews.com/us/northern-california-blazes-now-largest-in-state-history\n",
      "https://www.foxnews.com/us/experts-say-urban-sprawl-climate-change-hike-wildfire-risk\n",
      "https://www.foxnews.com/opinion/us-cuts-carbon-emissions-more-than-foreign-nations-that-criticize-trump-environmental-policies\n",
      "https://www.foxnews.com/us/science-says-record-heat-fires-worsened-by-climate-change\n",
      "https://www.foxnews.com/politics/california-city-oks-jail-time-for-defying-plastic-straw-ban\n",
      "https://www.foxnews.com/us/california-meets-greenhouse-gas-reduction-goal-years-early\n",
      "https://www.foxnews.com/us/allergies-glaciers-and-pikas-climate-change-in-action\n",
      "https://www.foxnews.com/politics/berkeley-declares-climate-emergency-worse-than-world-war-ii-demands-humane-population-control\n",
      "https://www.foxnews.com/world/pope-to-oil-execs-energy-needs-should-not-destroy-civilization\n",
      "https://www.foxnews.com/us/unhurried-hurricanes-study-says-tropical-cyclones-slowing\n",
      "https://www.foxnews.com/opinion/epa-administrator-scott-pruitt-trump-put-america-first-when-he-withdrew-from-paris-accord-one-year-ago\n",
      "https://www.foxnews.com/us/church-with-2k-in-gas-drillers-stock-wins-methane-vote\n",
      "https://www.foxnews.com/politics/15-states-push-back-on-california-cities-climate-change-suit\n",
      "https://www.foxnews.com/us/los-angeles-painting-city-streets-white-in-bid-to-combat-climate-change\n",
      "https://www.foxnews.com/politics/epa-pruitt-announce-rollback-of-obama-era-fuel-standards-setting-up-another-battle-with-california\n",
      "https://www.foxnews.com/us/as-louisiana-island-shrinks-state-paying-to-move-residents\n",
      "https://www.foxnews.com/opinion/john-stossel-pompeo-trump-and-the-paris-climate-agreement\n",
      "https://www.foxnews.com/opinion/rep-lamar-smith-climate-change-and-the-scientific-method-we-should-welcome-new-research-not-resist-it\n",
      "https://www.foxnews.com/opinion/california-cities-and-crazy-climate-change-lawsuits-do-as-i-say-not-as-i-do\n",
      "https://www.foxnews.com/us/qa-how-is-the-growth-of-bitcoin-affecting-the-environment\n",
      "https://www.foxnews.com/us/seattle-activist-sentenced-in-4-state-oil-pipeline-protest\n",
      "https://www.foxnews.com/politics/oregon-washington-want-to-hike-taxes-to-combat-global-warming\n",
      "https://www.foxnews.com/us/us-hits-record-for-costly-weather-disasters-306-billion\n",
      "https://www.foxnews.com/science/arbitrary-adjustments-exaggerate-sea-level-rise-study-finds\n",
      "https://www.foxnews.com/us/studies-warming-made-harveys-deluge-3-times-more-likely\n",
      "https://www.foxnews.com/opinion/heres-how-trump-could-make-a-quick-and-complete-exit-from-the-paris-climate-agreement-right-now\n",
      "https://www.foxnews.com/politics/post-trump-un-climate-pact-supporters-switch-to-a-state-and-local-strategy\n",
      "https://www.foxnews.com/us/charred-smokies-town-rebounds-doubts-fires-are-new-normal\n",
      "https://www.foxnews.com/us/harveys-biblical-rainfall-is-getting-more-likely\n",
      "https://www.foxnews.com/us/california-governor-talks-climate-change-at-vatican\n",
      "https://www.foxnews.com/us/how-cities-are-defending-themselves-against-sea-level-rise\n",
      "https://www.foxnews.com/us/study-nyc-could-see-bad-flooding-every-5-years\n",
      "https://www.foxnews.com/us/science-says-era-of-monster-hurricanes-roiling-the-atlantic\n",
      "https://www.foxnews.com/us/activists-in-4-state-pipeline-protest-embrace-unique-defense\n",
      "https://www.foxnews.com/opinion/will-the-sun-put-the-brakes-on-global-warming\n",
      "https://www.foxnews.com/opinion/hey-npr-take-your-global-warming-nonsense-about-kids-and-blow-it-out-your-f-150-tailpipe\n",
      "https://www.foxnews.com/us/california-governor-to-extend-climate-change-bill-10-years\n",
      "https://www.foxnews.com/us/insurer-miami-is-more-vulnerable-to-hurricanes-like-andrew\n",
      "https://www.foxnews.com/us/activists-plead-not-guilty-in-trump-tower-banner-hanging\n",
      "https://www.foxnews.com/opinion/john-stossel-al-gore-and-me-dont-believe-the-hype\n",
      "https://www.foxnews.com/us/scientists-say-harvey-may-be-the-soggy-sign-of-future-storms\n",
      "https://www.foxnews.com/us/scientists-say-warming-makes-storms-like-harvey-wetter\n",
      "https://www.foxnews.com/us/bossert-out-front-as-trumps-detail-man-on-homeland-threats\n",
      "https://www.foxnews.com/us/harvey-aftermath-mayor-says-houston-open-for-business-despite-major-hurdles\n",
      "https://www.foxnews.com/us/correction-hurricanes-qa-story\n",
      "https://www.foxnews.com/us/winds-fire-floods-and-quakes-a-nutty-run-of-nature\n",
      "https://www.foxnews.com/us/worst-florida-damage-from-irma-in-could-be-from-storm-surge\n",
      "https://www.foxnews.com/us/irmas-damage-a-reminder-of-florida-economys-vulnerability\n",
      "https://www.foxnews.com/opinion/john-stossel-of-course-climate-change-is-real-climate-changes-it-always-has-and-always-will\n",
      "https://www.foxnews.com/us/us-coastal-growth-continues-despite-lessons-of-past-storms\n",
      "https://www.foxnews.com/us/eu-official-says-us-wont-reject-paris-climate-treaty-but-white-house-denies-statement\n",
      "https://www.foxnews.com/us/activist-who-vandalized-wall-street-bull-statue-is-arrested\n",
      "https://www.foxnews.com/opinion/dont-blame-climate-change-hurricanes-have-always-been-and-will-always-be-with-us\n",
      "https://www.foxnews.com/us/irmas-damage-a-reminder-of-florida-economys-vulnerability\n",
      "https://www.foxnews.com/us/bossert-out-front-as-trumps-detail-man-on-homeland-threats\n",
      "https://www.foxnews.com/us/review-deadly-tennessee-fire-could-become-new-normal\n",
      "https://www.foxnews.com/us/climate-change-goosed-odds-of-freakishly-hot-february-study\n",
      "https://www.foxnews.com/us/california-targets-dairy-cows-to-combat-global-warming\n",
      "https://www.foxnews.com/opinion/rick-perry-got-a-tongue-lashing-from-the-american-meteorological-society-did-he-deserve-it\n",
      "https://www.foxnews.com/politics/trump-talks-paris-climate-agreement-in-rose-garden-address-live-blog\n",
      "https://www.foxnews.com/politics/al-gore-praises-china-for-banning-new-coal-plants\n",
      "https://www.foxnews.com/us/too-hot-to-handle-study-shows-earths-killer-heat-worsens\n",
      "https://www.foxnews.com/us/trump-wages-battle-against-regulations-not-climate-change\n",
      "https://www.foxnews.com/us/germany-climate-will-last-longer-than-trump-presidency\n",
      "https://www.foxnews.com/opinion/cal-thomas-the-secular-progressives-reveal-again-why-they-are-not-fit-to-lead-anything\n",
      "https://www.foxnews.com/politics/pittsburgh-nearly-100-other-cities-defy-trump-and-stand-with-paris-accord\n",
      "https://www.foxnews.com/politics/pittsburgh-mayor-tweets-support-for-paris-agreement-despite-trump-comments\n",
      "https://www.foxnews.com/politics/paris-agreement-gore-blasts-trump-move-withdrawing-us-from-deal\n",
      "https://www.foxnews.com/opinion/hollywood-suffers-melt-down-over-paris-climate-accord\n",
      "https://www.foxnews.com/opinion/trumps-paris-climate-decision-should-be-celebrated-by-democrats-republicans-and-independents\n",
      "https://www.foxnews.com/opinion/outrage-over-trumps-climate-deal-decision-is-a-groundhog-day-rerun\n",
      "https://www.foxnews.com/us/editorial-roundup-excerpts-from-recent-editorials\n",
      "https://www.foxnews.com/world/trump-views-on-climate-evolving-amid-push-from-europeans\n",
      "https://www.foxnews.com/us/climate-march-tens-of-thousands-protest-trump-climate-policies-demand-environmental-action\n",
      "https://www.foxnews.com/politics/march-for-science-bill-nye-rallies-thousands-in-dc-amid-threat-of-trump-budget-cuts\n",
      "https://www.foxnews.com/politics/brief-filed-by-think-tanks-in-climate-change-case\n",
      "https://www.foxnews.com/politics/brief-filed-by-media-groups-in-climate-change-case\n",
      "https://www.foxnews.com/opinion/sen-mitch-mcconnell-why-trumps-energy-executive-order-will-restore-sanity-after-obamas-failed-climate-policies\n",
      "https://www.foxnews.com/politics/trump-climate-policies-wont-be-enforced-say-75-us-mayors\n",
      "https://www.foxnews.com/opinion/trump-is-wrong-on-climate-change\n",
      "https://www.foxnews.com/politics/obama-gives-500-million-to-climate-fund-over-gop-objections\n",
      "https://www.foxnews.com/opinion/if-only-epa-stood-for-enough-protection-already\n",
      "https://www.foxnews.com/opinion/why-im-cheering-for-fossil-fuels-this-earth-day\n",
      "https://www.foxnews.com/opinion/lets-chill-out-about-global-warming\n",
      "https://www.foxnews.com/politics/curtain-reviews-come-down-on-taxpayer-funded-climate-change-musical\n",
      "https://www.foxnews.com/opinion/is-the-government-tinkering-with-global-warming-data\n",
      "https://www.foxnews.com/opinion/a-new-low-in-science-criminalizing-climate-change-skeptics\n",
      "https://www.foxnews.com/opinion/with-trump-in-the-white-house-states-could-step-up-on-climate-change\n",
      "https://www.foxnews.com/us/youth-in-washington-state-sue-government-over-climate-change\n",
      "https://www.foxnews.com/politics/climate-change-champion-kerry-to-visit-antarctica-next-week\n",
      "https://www.foxnews.com/politics/us-china-enter-landmark-climate-pact\n",
      "https://www.foxnews.com/us/prominent-connecticut-environmentalists-found-dead-in-home-in-possible-double-suicide\n",
      "https://www.foxnews.com/opinion/persecuting-climate-skeptics-the-cover-up-continues\n",
      "https://www.foxnews.com/politics/fighting-back-ags-ask-judge-to-block-climate-change-fishing-expedition\n",
      "https://www.foxnews.com/politics/ag-targets-90-conservative-groups-in-controversial-climate-change-probe\n",
      "https://www.foxnews.com/us/exxon-peabody-investigated-over-climate-change-claims\n",
      "https://www.foxnews.com/politics/wars-over-epa-renewable-fuel-standard-heat-up\n",
      "https://www.foxnews.com/science/yales-climate-change-program-out-of-gas\n",
      "https://www.foxnews.com/politics/ags-activists-accused-of-collusion-on-exxon-probe-amid-new-emails\n",
      "https://www.foxnews.com/politics/report-reveals-secret-meeting-by-environmentalists-to-target-exxon-oil-industry\n",
      "https://www.foxnews.com/opinion/why-author-terry-l-anderson-is-all-wrong-about-the-urgency-of-climate-change\n",
      "https://www.foxnews.com/opinion/the-paris-climate-agreement-is-about-carbon-and-confusion\n",
      "https://www.foxnews.com/opinion/earth-day-2016-lets-ditch-the-doom-and-gloom-and-celebrate-our-improving-environment\n",
      "https://www.foxnews.com/opinion/email-bombshell-attorneys-general-worked-with-green-groups-to-punish-political-opponents\n",
      "https://www.foxnews.com/us/california-gov-declares-state-of-emergency-in-los-angeles-suburb-over-massive-gas-leak\n",
      "https://www.foxnews.com/politics/obama-to-feds-boost-renewable-power-20-percent\n",
      "https://www.foxnews.com/politics/house-backs-bill-to-exclude-climate-change-from-trade-deals\n",
      "https://www.foxnews.com/politics/obama-urges-international-cooperation-on-climate-change\n",
      "https://www.foxnews.com/politics/ninety-percent-of-epa-stimulus-funding-for-diesel-reduction-program-misspent\n",
      "https://www.foxnews.com/politics/schwarzenegger-makes-rare-visit-to-sacramento\n",
      "https://www.foxnews.com/politics/obama-reportedly-plotting-end-run-around-congress-on-global-climate-change-deal\n",
      "https://www.foxnews.com/politics/california-drivers-brace-for-costly-new-gas-tax\n",
      "https://www.foxnews.com/politics/groups-to-epa-stop-muzzling-science-advisers\n",
      "https://www.foxnews.com/politics/tom-steyer-wants-to-penalize-people-who-add-to-climate-risk\n",
      "https://www.foxnews.com/politics/the-winner-of-supreme-courts-latest-epa-ruling-everyone-and-no-one\n",
      "https://www.foxnews.com/politics/gop-challengers-see-opportunity-in-california-water-crisis\n",
      "https://www.foxnews.com/politics/ex-ny-mayor-bloomberg-named-un-climate-envoy\n",
      "https://www.foxnews.com/politics/10-billion-un-linked-climate-change-fund-wants-immunity-from-prosecution\n",
      "https://www.foxnews.com/politics/fight-looms-over-3-billion-obama-administration-payment-to-un-linked-climate-fund\n",
      "https://www.foxnews.com/politics/obama-to-pledge-3-billion-in-climate-aid\n",
      "https://www.foxnews.com/politics/cap-and-trade-to-get-fresh-look-with-epa-power-plant-rule\n",
      "https://www.foxnews.com/politics/taxpayers-paid-5-7-million-for-global-warming-games\n",
      "https://www.foxnews.com/politics/administration-issues-dire-global-warming-report-amid-regulatory-push\n",
      "https://www.foxnews.com/politics/in-climate-bid-obama-stares-down-melting-alaska-glacier\n",
      "https://www.foxnews.com/politics/states-fight-to-stop-deadline-clock-on-epas-mammoth-clean-power-plan\n",
      "https://www.foxnews.com/politics/lawmakers-take-aim-at-epa-sue-and-settle-collusion\n",
      "https://www.foxnews.com/world/poverty-environment-even-traffic-fatalities-uns-sweeping-sustainable-development-goals-aim-to-fix-everything-on-paper\n",
      "https://www.foxnews.com/world/foundations-plan-to-pay-news-media-to-cover-radical-un-agenda\n",
      "https://www.foxnews.com/world/un-carbon-emissions-reduction-system-awash-in-cash-as-it-claims-to-face-hard-times\n",
      "https://www.foxnews.com/opinion/climate-change-vs-free-speech-punishing-fossil-fuel-companies-for-expressing-doubt\n",
      "https://www.foxnews.com/opinion/huckabee-america-needs-a-commander-in-chief-not-a-weather-obsessed-meteorologist\n",
      "https://www.foxnews.com/us/bankrupt-solar-panel-firm-took-stimulus-money-left-a-toxic-mess-says-report\n",
      "https://www.foxnews.com/science/big-methane-burp-cow-farts-a-greater-problem-than-epa-previously-thought-study-says\n",
      "https://www.foxnews.com/science/solar-plane-lands-in-texas-completes-2nd-leg-of-trip-intended-to-boost-clean-energy-interest\n",
      "https://www.foxnews.com/opinion/epas-clean-power-plan-will-hurt-poor-blacks-hispanics-and-whites-the-most\n",
      "https://www.foxnews.com/opinion/climate-change-mr-obama-97-percent-of-experts-is-a-bogus-number\n",
      "https://www.foxnews.com/opinion/national-climate-assessment-report-alarmists-offer-untrue-unrelenting-doom-and-gloom\n",
      "https://www.foxnews.com/opinion/un-climate-change-expert-reveals-bias-in-global-warming-report\n",
      "https://www.foxnews.com/opinion/climate-change-the-moment-i-became-a-climate-skeptic\n",
      "https://www.foxnews.com/opinion/making-up-the-apocalypse-the-truth-about-the-science-in-obamas-national-climate-assessment\n",
      "https://www.foxnews.com/opinion/buyer-beware-obama-administrations-hurry-up-climate-plan-based-on-big-distortions\n",
      "https://www.foxnews.com/opinion/un-climate-summit-the-dirty-little-secret-about-global-warming-obama-doesnt-want-you-to-know\n",
      "https://www.foxnews.com/opinion/is-climate-change-really-killing-us-a-doctors-diagnosis\n",
      "https://www.foxnews.com/opinion/obama-exploits-the-environment-for-his-new-global-carbon-goals\n"
     ]
    }
   ],
   "source": [
    "url='https://www.foxnews.com' #create fox base url (domain name), we can append paths to this\n",
    "links_fox=[]\n",
    "\n",
    "#create a df that stores all of the links into one df\n",
    "for i in range(0,len(rm_video)): \n",
    "        row=rm_video['url'][i] #path of each article\n",
    "        full_url=url+row #append path to domain\n",
    "        print(full_url)\n",
    "        links_fox.append(full_url)"
   ]
  },
  {
   "cell_type": "markdown",
   "metadata": {},
   "source": [
    "Now that I have all article links, I can extract text from them. I do this using the newspaper.article package, which makes it easy to pull the aformentioned data from the links. In addition to this, I will extract article titles and descrptions from the links. This should provide some background for each article, making it easier to identify. This data will be stored in a new dataframe, fox. "
   ]
  },
  {
   "cell_type": "code",
   "execution_count": 6,
   "metadata": {},
   "outputs": [],
   "source": [
    "from newspaper import Article\n",
    "from newspaper.article import ArticleException, ArticleDownloadState\n",
    "\n",
    "article_info_fox=[] #empty list to store title/descpription of each individual article\n",
    "df_fox=[] #combine data from all of these articles into one list then convert to df\n",
    "\n",
    "for i in range(0,len(links_fox)): \n",
    "    article_fox = Article(links_fox[i]) #iterate through each article link\n",
    "        \n",
    "    slept = 0\n",
    "    article_fox.download()\n",
    "    while article_fox.download_state == ArticleDownloadState.NOT_STARTED:\n",
    "    # Raise exception if article download state does not change after 10 seconds\n",
    "        if slept > 9:\n",
    "            raise ArticleException('Download never started')\n",
    "    sleep(1)\n",
    "    slept += 1\n",
    "    \n",
    "    article_fox.parse() #makes it easy to identify main components of article\n",
    "       \n",
    "    #to retrieve title/description/full text from each article + append publisher name\n",
    "    article_info_fox={'title' : article_fox.title, \n",
    "                      'description': article_fox.meta_description,\n",
    "                      'text':article_fox.text,\n",
    "                      'publisher' : 'fox'} \n",
    "\n",
    "    df_fox.append(article_info_fox)\n",
    "    fox = pd.DataFrame(df_fox)"
   ]
  },
  {
   "cell_type": "markdown",
   "metadata": {},
   "source": [
    "# 2.2 Scraping Huffington Post"
   ]
  },
  {
   "cell_type": "markdown",
   "metadata": {},
   "source": [
    "Next, I will scrape articles from the Huffington Post. As mentioned previously, the Huffington Post represents a left leaning media site, and, thus, will serve as the counterpart to Fox News. The goal is to end up with the same type of dataframe as Fox News with columns for description, publisher, text, and title. In the cell below, I use the Article command from the newspaper package. Moreover, I use the BeautifulSoup package to parse through each html page. I first define the function for collecting the information and then run it in a loop over all URLs. Since there are 26 articles per page, I need at least 9 pages to retrieve 222 articles--the same as Fox News. You can see that I loop through 11 pages (286 articles), to make sure I have enough articles just in case I have to remove those that are videos."
   ]
  },
  {
   "cell_type": "code",
   "execution_count": 17,
   "metadata": {},
   "outputs": [
    {
     "name": "stdout",
     "output_type": "stream",
     "text": [
      "Now on page1\n",
      "Now on page2\n",
      "Now on page3\n",
      "Now on page4\n",
      "Now on page5\n",
      "Now on page6\n",
      "Now on page7\n",
      "Now on page8\n",
      "Now on page9\n",
      "Now on page10\n",
      "Now on page11\n"
     ]
    }
   ],
   "source": [
    "#Scraping Huffington Post\n",
    "\n",
    "import requests\n",
    "import json\n",
    "import re\n",
    "from newspaper import Article\n",
    "from urllib.request import Request, urlopen\n",
    "from bs4 import BeautifulSoup as soup\n",
    "\n",
    "store_pages=[] #store html code for each page\n",
    "\n",
    "for page_number in range(1,12): \n",
    "     \n",
    "    page_number=str(page_number) #convert integer to string (Request command only reads strings)\n",
    "    base_url_huff='https://www.huffpost.com/impact/topic/climate-change?page='\n",
    "    r_huff = Request(base_url_huff + page_number, headers={'User-Agent': 'Mozilla/5.0'}) #To get around block\n",
    "    webpage = urlopen(r_huff).read()\n",
    "    page_soup=soup(webpage,\"html.parser\")\n",
    "    store_pages.append(page_soup) #store each html parsed page in dataframe\n",
    "\n",
    "    print('Now on page' + page_number)\n",
    "    sleep(3)"
   ]
  },
  {
   "cell_type": "markdown",
   "metadata": {},
   "source": [
    "Similar to what was done in the Fox News scraping, I retrieve article titles and descriptions by first retrieving links to each article. The stored links (285) can be seen below:"
   ]
  },
  {
   "cell_type": "code",
   "execution_count": 18,
   "metadata": {},
   "outputs": [],
   "source": [
    "links_huff = [] #empty list to store links\n",
    "i=0\n",
    "for i in range(0, len(store_pages)):\n",
    "    for link in store_pages[i].findAll(\"a\", {\"class\": \"card__link yr-card-headline\"}):\n",
    "        links_huff.append(link.get('href'))"
   ]
  },
  {
   "cell_type": "markdown",
   "metadata": {},
   "source": [
    "Next, I retrieve article titles and descriptions from each link. Again, the article package makes it easy to identify main components of the article. Here, I'm interested in obtaining the article title, description, text. I also include a publisher column labeled, huff, which will serve as my dependent variable in my analysis in the next section. Lastly, I combine data from all of these articles into one list then convert to a dataframe."
   ]
  },
  {
   "cell_type": "code",
   "execution_count": 20,
   "metadata": {},
   "outputs": [],
   "source": [
    "from newspaper.article import ArticleException, ArticleDownloadState\n",
    "\n",
    "article_info_huff=[] #empty list to store title/descpription/text of each individual article\n",
    "df_huff=[]\n",
    "\n",
    "for i in range(0,len(links_huff)): \n",
    "    article_huff = Article(links_huff[i]) #iterate through each article link\n",
    "        \n",
    "    slept = 0\n",
    "    article_huff.download()\n",
    "    while article_huff.download_state == ArticleDownloadState.NOT_STARTED:\n",
    "    # Raise exception if article download state does not change after 10 seconds\n",
    "        if slept > 9:\n",
    "            raise ArticleException('Download never started')\n",
    "    sleep(1)\n",
    "    slept += 1\n",
    "    \n",
    "    article_huff.parse() \n",
    "        \n",
    "    article_info_huff={'title' : article_huff.title, \n",
    "                      'description': article_huff.meta_description,\n",
    "                      'text': article_huff.text,\n",
    "                      'publisher' : 'huff'} \n",
    "\n",
    "    df_huff.append(article_info_huff)\n",
    "    huff = pd.DataFrame(df_huff)"
   ]
  },
  {
   "cell_type": "markdown",
   "metadata": {},
   "source": [
    "Now that I have dataframes for both Fox News and Huffington Post, I can combine them. However, before doing so I will remove some rows from the Huffington Post (285) to match the number of rows in the Fox News dataframe (222). I do this because I want a balanced dataset. The trimmed dataframe is called new_huff."
   ]
  },
  {
   "cell_type": "code",
   "execution_count": 21,
   "metadata": {},
   "outputs": [],
   "source": [
    "new_huff=huff[0:222]"
   ]
  },
  {
   "cell_type": "markdown",
   "metadata": {},
   "source": [
    "Now that I have both dataframes for Fox News and the Huffington Post each containing the same features, I can combine them into one dataframe. The combined dataframe can be seen below and will be used for my analysis. In total, there are 444 rows since the Fox News and Huffington Post dataframs have 222 rows. "
   ]
  },
  {
   "cell_type": "code",
   "execution_count": 22,
   "metadata": {},
   "outputs": [],
   "source": [
    "#append both df\n",
    "combine=fox.append(new_huff, ignore_index=True)"
   ]
  },
  {
   "cell_type": "markdown",
   "metadata": {},
   "source": [
    "Below, I save the dataframe to a csv file for backup. "
   ]
  },
  {
   "cell_type": "code",
   "execution_count": 23,
   "metadata": {},
   "outputs": [],
   "source": [
    "#save to csv\n",
    "combine.to_csv(\"/Users/halabanz/Desktop/fox_huff-scrape2.csv\", sep=',')"
   ]
  },
  {
   "cell_type": "code",
   "execution_count": 24,
   "metadata": {},
   "outputs": [
    {
     "data": {
      "text/html": [
       "<div>\n",
       "<style scoped>\n",
       "    .dataframe tbody tr th:only-of-type {\n",
       "        vertical-align: middle;\n",
       "    }\n",
       "\n",
       "    .dataframe tbody tr th {\n",
       "        vertical-align: top;\n",
       "    }\n",
       "\n",
       "    .dataframe thead th {\n",
       "        text-align: right;\n",
       "    }\n",
       "</style>\n",
       "<table border=\"1\" class=\"dataframe\">\n",
       "  <thead>\n",
       "    <tr style=\"text-align: right;\">\n",
       "      <th></th>\n",
       "      <th>description</th>\n",
       "      <th>publisher</th>\n",
       "      <th>text</th>\n",
       "      <th>title</th>\n",
       "    </tr>\n",
       "  </thead>\n",
       "  <tbody>\n",
       "    <tr>\n",
       "      <th>0</th>\n",
       "      <td>Democratic presidential candidate Beto O'Rourk...</td>\n",
       "      <td>fox</td>\n",
       "      <td>Remember Beto?\\n\\nMonday former congressman fr...</td>\n",
       "      <td>Gutfeld on Beto's $5 trillion plan to save the...</td>\n",
       "    </tr>\n",
       "    <tr>\n",
       "      <th>1</th>\n",
       "      <td>\"The Five\" host Jesse Watters had some tough w...</td>\n",
       "      <td>fox</td>\n",
       "      <td>\"The Five\" co-host Jesse Watters had some toug...</td>\n",
       "      <td>Watters on Beto's climate plan: He's a 'scam a...</td>\n",
       "    </tr>\n",
       "    <tr>\n",
       "      <th>2</th>\n",
       "      <td>Democrats who truly wish to address climate an...</td>\n",
       "      <td>fox</td>\n",
       "      <td>This week, Democrats in the House of Represent...</td>\n",
       "      <td>Mandy Gunasekara: Democrats should back Trump'...</td>\n",
       "    </tr>\n",
       "    <tr>\n",
       "      <th>3</th>\n",
       "      <td>In the next few weeks California Gov. Gavin Ne...</td>\n",
       "      <td>fox</td>\n",
       "      <td>In the next few weeks, California Gov. Gavin N...</td>\n",
       "      <td>California Gov. Newsom facing new pressure fro...</td>\n",
       "    </tr>\n",
       "    <tr>\n",
       "      <th>4</th>\n",
       "      <td>Climate change activists pulled an Earth Day s...</td>\n",
       "      <td>fox</td>\n",
       "      <td>Here’s a headline for you: California climate ...</td>\n",
       "      <td>Tomi Lahren: California is the Golden State of...</td>\n",
       "    </tr>\n",
       "    <tr>\n",
       "      <th>5</th>\n",
       "      <td>Actor Alec Baldwin said Tuesday that his passi...</td>\n",
       "      <td>fox</td>\n",
       "      <td>Actor Alec Baldwin said Tuesday that his passi...</td>\n",
       "      <td>Alec Baldwin calls for action on climate chang...</td>\n",
       "    </tr>\n",
       "    <tr>\n",
       "      <th>6</th>\n",
       "      <td>Little has changed over at CBS, with the netwo...</td>\n",
       "      <td>fox</td>\n",
       "      <td>CBS dug up for Earth Day a decades-old news cl...</td>\n",
       "      <td>CBS resurfaces 1970 'Act or Die' alarmist clim...</td>\n",
       "    </tr>\n",
       "    <tr>\n",
       "      <th>7</th>\n",
       "      <td>The hurricane pre-season hysteria is ramping u...</td>\n",
       "      <td>fox</td>\n",
       "      <td>The hurricane pre-season hysteria is ramping u...</td>\n",
       "      <td>Joe Bastardi: Hurricanes happen, whether they ...</td>\n",
       "    </tr>\n",
       "    <tr>\n",
       "      <th>8</th>\n",
       "      <td>Climate-change activists took over the Univers...</td>\n",
       "      <td>fox</td>\n",
       "      <td>Climate-change activists took over the Univers...</td>\n",
       "      <td>Protesters climb Universal Studios globe in Ca...</td>\n",
       "    </tr>\n",
       "    <tr>\n",
       "      <th>9</th>\n",
       "      <td>The protesters who glued themselves to trains ...</td>\n",
       "      <td>fox</td>\n",
       "      <td>The protesters who glued themselves to trains ...</td>\n",
       "      <td>Climate change protesters announce shift to po...</td>\n",
       "    </tr>\n",
       "    <tr>\n",
       "      <th>10</th>\n",
       "      <td>In a video released on Wednesday, Rep. Alexand...</td>\n",
       "      <td>fox</td>\n",
       "      <td>In a video released on Wednesday, Rep. Alexand...</td>\n",
       "      <td>AOC narrates video from future in which her 'G...</td>\n",
       "    </tr>\n",
       "    <tr>\n",
       "      <th>11</th>\n",
       "      <td>London has been brought to the halt after mili...</td>\n",
       "      <td>fox</td>\n",
       "      <td>London was brought to a standstill Wednesday m...</td>\n",
       "      <td>Climate change protesters bring London to halt...</td>\n",
       "    </tr>\n",
       "    <tr>\n",
       "      <th>12</th>\n",
       "      <td>Former Secretary of State John Kerry clashed w...</td>\n",
       "      <td>fox</td>\n",
       "      <td>Former Secretary of State John Kerry and Rep. ...</td>\n",
       "      <td>John Kerry clashes with Rep. Thomas Massie on ...</td>\n",
       "    </tr>\n",
       "    <tr>\n",
       "      <th>13</th>\n",
       "      <td>While discussing the border crisis on “Your Wo...</td>\n",
       "      <td>fox</td>\n",
       "      <td>While discussing the border crisis on “Your Wo...</td>\n",
       "      <td>AOC's linkage of climate change and border sit...</td>\n",
       "    </tr>\n",
       "    <tr>\n",
       "      <th>14</th>\n",
       "      <td>Conservative commentator Mark Steyn and \"Tucke...</td>\n",
       "      <td>fox</td>\n",
       "      <td>Could toxic masculinity be the cause of climat...</td>\n",
       "      <td>Is 'toxic masculinity' melting the polar ice c...</td>\n",
       "    </tr>\n",
       "    <tr>\n",
       "      <th>15</th>\n",
       "      <td>Rep. Alexandria Ocasio-Cortez, D.N.Y., unleash...</td>\n",
       "      <td>fox</td>\n",
       "      <td>Rep. Alexandria Ocasio-Cortez, D.N.Y., unleash...</td>\n",
       "      <td>Ocasio-Cortez likens GOP to 'Exorcist' girl, a...</td>\n",
       "    </tr>\n",
       "    <tr>\n",
       "      <th>16</th>\n",
       "      <td>News headlines sound alarms with fears about s...</td>\n",
       "      <td>fox</td>\n",
       "      <td>SEATTLE -- With every flood, devastating wildf...</td>\n",
       "      <td>Global warming bringing you down? Washington s...</td>\n",
       "    </tr>\n",
       "    <tr>\n",
       "      <th>17</th>\n",
       "      <td>In this age of political hysteria, we must all...</td>\n",
       "      <td>fox</td>\n",
       "      <td>Throughout my 40 year career as a meteorologis...</td>\n",
       "      <td>Joe Bastardi: Climate change agenda is being d...</td>\n",
       "    </tr>\n",
       "    <tr>\n",
       "      <th>18</th>\n",
       "      <td>After releasing 12 years of tax returns on his...</td>\n",
       "      <td>fox</td>\n",
       "      <td>After releasing 12 years of tax returns on his...</td>\n",
       "      <td>2020 hopeful Gov. Jay Inslee challenges Presid...</td>\n",
       "    </tr>\n",
       "    <tr>\n",
       "      <th>19</th>\n",
       "      <td>The United Nations' weather agency says extrem...</td>\n",
       "      <td>fox</td>\n",
       "      <td>The United Nations' weather agency says extrem...</td>\n",
       "      <td>UN report: Extreme weather hit 62 million peop...</td>\n",
       "    </tr>\n",
       "    <tr>\n",
       "      <th>20</th>\n",
       "      <td>I believe climate change is real. I believe th...</td>\n",
       "      <td>fox</td>\n",
       "      <td>I believe climate change is real. I believe th...</td>\n",
       "      <td>Sen. Lamar Alexander: Green New Deal would cos...</td>\n",
       "    </tr>\n",
       "    <tr>\n",
       "      <th>21</th>\n",
       "      <td>U.S. Rep. Alexandria Ocasio-Cortez, D-N.Y., bl...</td>\n",
       "      <td>fox</td>\n",
       "      <td>U.S. Rep. Alexandria Ocasio-Cortez, D-N.Y., bl...</td>\n",
       "      <td>Ocasio-Cortez blasts GOP's upcoming ‘bluff-vot...</td>\n",
       "    </tr>\n",
       "    <tr>\n",
       "      <th>22</th>\n",
       "      <td>Freshman Rep. Alexandria Ocasio-Cortez, D-N.Y....</td>\n",
       "      <td>fox</td>\n",
       "      <td>Freshman Rep. Alexandria Ocasio-Cortez, D-N.Y....</td>\n",
       "      <td>Ocasio-Cortez, in sick burn, compares Trump to...</td>\n",
       "    </tr>\n",
       "    <tr>\n",
       "      <th>23</th>\n",
       "      <td>The Green New Deal is a pipe dream. But climat...</td>\n",
       "      <td>fox</td>\n",
       "      <td>I agree with House Speaker Nancy Pelosi on one...</td>\n",
       "      <td>Climate change is real but the Green New Deal ...</td>\n",
       "    </tr>\n",
       "    <tr>\n",
       "      <th>24</th>\n",
       "      <td>In a video posted to social media on Monday, N...</td>\n",
       "      <td>fox</td>\n",
       "      <td>In a video posted to social media on Monday, N...</td>\n",
       "      <td>Bill de Blasio, pitching $10B climate change p...</td>\n",
       "    </tr>\n",
       "    <tr>\n",
       "      <th>25</th>\n",
       "      <td>Former Vice President Al Gore turned up the rh...</td>\n",
       "      <td>fox</td>\n",
       "      <td>Former Vice President Al Gore turned up the rh...</td>\n",
       "      <td>Al Gore says climate change can ‘bring about t...</td>\n",
       "    </tr>\n",
       "    <tr>\n",
       "      <th>26</th>\n",
       "      <td>The world’s foremost expert on the harm of cli...</td>\n",
       "      <td>fox</td>\n",
       "      <td>The four Democratic Senators running for presi...</td>\n",
       "      <td>If we ignore costs of climate regulation on av...</td>\n",
       "    </tr>\n",
       "    <tr>\n",
       "      <th>27</th>\n",
       "      <td>Climate change could trigger a “civilization b...</td>\n",
       "      <td>fox</td>\n",
       "      <td>Climate change could trigger a “civilization b...</td>\n",
       "      <td>'Birth Strike' founder argues future 'too frig...</td>\n",
       "    </tr>\n",
       "    <tr>\n",
       "      <th>28</th>\n",
       "      <td>The Senate on Thursday confirmed former coal i...</td>\n",
       "      <td>fox</td>\n",
       "      <td>The Senate on Thursday confirmed former coal i...</td>\n",
       "      <td>Former coal lobbyist Andrew Wheeler confirmed ...</td>\n",
       "    </tr>\n",
       "    <tr>\n",
       "      <th>29</th>\n",
       "      <td>As leading 2020 Dems advocate spending trillio...</td>\n",
       "      <td>fox</td>\n",
       "      <td>As leading 2020 Dems advocate spending big on ...</td>\n",
       "      <td>Despite Green New Deal push, climate change no...</td>\n",
       "    </tr>\n",
       "    <tr>\n",
       "      <th>...</th>\n",
       "      <td>...</td>\n",
       "      <td>...</td>\n",
       "      <td>...</td>\n",
       "      <td>...</td>\n",
       "    </tr>\n",
       "    <tr>\n",
       "      <th>414</th>\n",
       "      <td>It cost a projected $4.1 trillion to run the f...</td>\n",
       "      <td>huff</td>\n",
       "      <td>It’s no secret where the Trump administration ...</td>\n",
       "      <td>The U.S. Could Cut Emissions By 80 Percent For...</td>\n",
       "    </tr>\n",
       "    <tr>\n",
       "      <th>415</th>\n",
       "      <td>\"His voice is the voice of climate denial,\" th...</td>\n",
       "      <td>huff</td>\n",
       "      <td>Former Vice President Al Gore thinks President...</td>\n",
       "      <td>Al Gore Torches Donald Trump: He 'Is Now The F...</td>\n",
       "    </tr>\n",
       "    <tr>\n",
       "      <th>416</th>\n",
       "      <td>The \"Late Show\" host also dropped a different ...</td>\n",
       "      <td>huff</td>\n",
       "      <td>TONIGHT: A scary new climate change report giv...</td>\n",
       "      <td>Stephen Colbert Hits One Of Donald Trump's Dee...</td>\n",
       "    </tr>\n",
       "    <tr>\n",
       "      <th>417</th>\n",
       "      <td>\"We're giving our $10 million tax cut back to ...</td>\n",
       "      <td>huff</td>\n",
       "      <td>Patagonia said Wednesday it planned to donate ...</td>\n",
       "      <td>Patagonia Donates $10 Million Tax Break To Gre...</td>\n",
       "    </tr>\n",
       "    <tr>\n",
       "      <th>418</th>\n",
       "      <td>New report examines experimental intervention ...</td>\n",
       "      <td>huff</td>\n",
       "      <td>Coral reefs, considered the canaries of the wo...</td>\n",
       "      <td>The Radical Tools That Could Save Coral Reefs</td>\n",
       "    </tr>\n",
       "    <tr>\n",
       "      <th>419</th>\n",
       "      <td>The EPA's Andrew Wheeler said he \"wouldn't be ...</td>\n",
       "      <td>huff</td>\n",
       "      <td>Environmental Protection Agency acting Adminis...</td>\n",
       "      <td>Trump Administration May Reshape Next Federal ...</td>\n",
       "    </tr>\n",
       "    <tr>\n",
       "      <th>420</th>\n",
       "      <td>Despite overwhelming proof, President Trump an...</td>\n",
       "      <td>huff</td>\n",
       "      <td>Real Life. Real News. Real Voices.\\n\\nHelp us ...</td>\n",
       "      <td>A Brief History Of The Trump Administration's ...</td>\n",
       "    </tr>\n",
       "    <tr>\n",
       "      <th>421</th>\n",
       "      <td>🙄 🙄 🙄</td>\n",
       "      <td>huff</td>\n",
       "      <td>Another day, another presidential remark on cl...</td>\n",
       "      <td>Scientists Respond To Trump’s Latest Unhinged ...</td>\n",
       "    </tr>\n",
       "    <tr>\n",
       "      <th>422</th>\n",
       "      <td>The thirstiest source of electricity is alread...</td>\n",
       "      <td>huff</td>\n",
       "      <td>ASSOCIATED PRESS The Three Mile Island nuclear...</td>\n",
       "      <td>Trump Administration’s Climate Report Raises N...</td>\n",
       "    </tr>\n",
       "    <tr>\n",
       "      <th>423</th>\n",
       "      <td>The president also claimed in an interview wit...</td>\n",
       "      <td>huff</td>\n",
       "      <td>Trump, who also rejected the findings of his o...</td>\n",
       "      <td>Trump's 'Very High Levels Of Intelligence' Dra...</td>\n",
       "    </tr>\n",
       "    <tr>\n",
       "      <th>424</th>\n",
       "      <td>The government's own climate report predicts t...</td>\n",
       "      <td>huff</td>\n",
       "      <td>President Donald Trump asserted that he had “v...</td>\n",
       "      <td>President Trump Says He's Too Intelligent To B...</td>\n",
       "    </tr>\n",
       "    <tr>\n",
       "      <th>425</th>\n",
       "      <td>Sarah Huckabee Sanders claimed the report is \"...</td>\n",
       "      <td>huff</td>\n",
       "      <td>The Trump administration appears to have settl...</td>\n",
       "      <td>Trump Administration Will Say Anything To Down...</td>\n",
       "    </tr>\n",
       "    <tr>\n",
       "      <th>426</th>\n",
       "      <td>The president's reaction to the federal govern...</td>\n",
       "      <td>huff</td>\n",
       "      <td>“It’s like they edited his genes to give him s...</td>\n",
       "      <td>Trevor Noah: Trump's Super Power Is 'Superhuma...</td>\n",
       "    </tr>\n",
       "    <tr>\n",
       "      <th>427</th>\n",
       "      <td>CNN host calls out the president for dismissin...</td>\n",
       "      <td>huff</td>\n",
       "      <td>“We’re just suggesting, Mr. President, if you ...</td>\n",
       "      <td>Anderson Cooper Taunts Trump With Suggestion O...</td>\n",
       "    </tr>\n",
       "    <tr>\n",
       "      <th>428</th>\n",
       "      <td>“Right now, we’re the cleanest we’ve ever been...</td>\n",
       "      <td>huff</td>\n",
       "      <td>President Donald Trump on Monday rejected the ...</td>\n",
       "      <td>Trump On Climate Change Report: 'I Don't Belie...</td>\n",
       "    </tr>\n",
       "    <tr>\n",
       "      <th>429</th>\n",
       "      <td>From an Amazon strike to a possible Mueller pl...</td>\n",
       "      <td>huff</td>\n",
       "      <td>ASSOCIATED PRESS Migrants cross the river at t...</td>\n",
       "      <td>Here Are Some Of The Stories You Missed Over T...</td>\n",
       "    </tr>\n",
       "    <tr>\n",
       "      <th>430</th>\n",
       "      <td>The report, which came out on Black Friday, pr...</td>\n",
       "      <td>huff</td>\n",
       "      <td>CNN’s Brian Stelter on Sunday criticized Fox N...</td>\n",
       "      <td>CNN's Brian Stelter Roasts Fox For Focusing On...</td>\n",
       "    </tr>\n",
       "    <tr>\n",
       "      <th>431</th>\n",
       "      <td>The CNN political commentator praised the Trum...</td>\n",
       "      <td>huff</td>\n",
       "      <td>Rick Santorum, the twice-failed Republican pre...</td>\n",
       "      <td>Twitter Users Burn Rick Santorum For Saying Cl...</td>\n",
       "    </tr>\n",
       "    <tr>\n",
       "      <th>432</th>\n",
       "      <td>“We know that our climate is changing. Our cli...</td>\n",
       "      <td>huff</td>\n",
       "      <td>It seems that not even the Trump administratio...</td>\n",
       "      <td>GOP Shrugs Off Bombshell Climate Report</td>\n",
       "    </tr>\n",
       "    <tr>\n",
       "      <th>433</th>\n",
       "      <td>It's a \"transparent attempt to continue the ca...</td>\n",
       "      <td>huff</td>\n",
       "      <td>Critics are slamming the Trump administration’...</td>\n",
       "      <td>White House Lashed For 'Burying' Bombshell Cli...</td>\n",
       "    </tr>\n",
       "    <tr>\n",
       "      <th>434</th>\n",
       "      <td>The warmer ocean waters of climate change enti...</td>\n",
       "      <td>huff</td>\n",
       "      <td>Plunging temperatures and high winds off Cape ...</td>\n",
       "      <td>Dozens Of Sea Turtles Found Frozen To Death At...</td>\n",
       "    </tr>\n",
       "    <tr>\n",
       "      <th>435</th>\n",
       "      <td>The White House's decision to release the repo...</td>\n",
       "      <td>huff</td>\n",
       "      <td>The United States already warmed on average 1....</td>\n",
       "      <td>Federal Climate Report Predicts At Least 3 Deg...</td>\n",
       "    </tr>\n",
       "    <tr>\n",
       "      <th>436</th>\n",
       "      <td>\"Climate isn’t a day, climate is long-term,\" C...</td>\n",
       "      <td>huff</td>\n",
       "      <td>In a tweet Thursday, President Donald Trump tr...</td>\n",
       "      <td>CNN Meteorologist Schools Trump On The Meaning...</td>\n",
       "    </tr>\n",
       "    <tr>\n",
       "      <th>437</th>\n",
       "      <td>On the eve of what's expected to be a cold Tha...</td>\n",
       "      <td>huff</td>\n",
       "      <td>President Donald Trump once again cast doubt o...</td>\n",
       "      <td>Scientists Slam Trump's Clueless Climate Chang...</td>\n",
       "    </tr>\n",
       "    <tr>\n",
       "      <th>438</th>\n",
       "      <td>These Northern Californians have lost their ho...</td>\n",
       "      <td>huff</td>\n",
       "      <td>Real Life. Real News. Real Voices.\\n\\nHelp us ...</td>\n",
       "      <td>Northern Californians Flee Fire, Move Into Ten...</td>\n",
       "    </tr>\n",
       "    <tr>\n",
       "      <th>439</th>\n",
       "      <td>This legislation would set a new standard for ...</td>\n",
       "      <td>huff</td>\n",
       "      <td>A top New York City lawmaker unveiled landmark...</td>\n",
       "      <td>New York City Just Unveiled A Historic Bill To...</td>\n",
       "    </tr>\n",
       "    <tr>\n",
       "      <th>440</th>\n",
       "      <td>California Gov. Jerry Brown, however, disagree...</td>\n",
       "      <td>huff</td>\n",
       "      <td>Just seconds after Interior Secretary Ryan Zin...</td>\n",
       "      <td>Ryan Zinke Blames 'Radical Environmentalists' ...</td>\n",
       "    </tr>\n",
       "    <tr>\n",
       "      <th>441</th>\n",
       "      <td>The likely 2020 presidential candidate is dari...</td>\n",
       "      <td>huff</td>\n",
       "      <td>ASSOCIATED PRESS Sen. Bernie Sanders (I-Vt.) i...</td>\n",
       "      <td>Bernie Sanders To Host A Climate Town Hall, Am...</td>\n",
       "    </tr>\n",
       "    <tr>\n",
       "      <th>442</th>\n",
       "      <td>“I really hope that many of you join me here i...</td>\n",
       "      <td>huff</td>\n",
       "      <td>In a significant escalation of her activism-dr...</td>\n",
       "      <td>Alexandria Ocasio-Cortez Blesses New Push To O...</td>\n",
       "    </tr>\n",
       "    <tr>\n",
       "      <th>443</th>\n",
       "      <td>\"Alexa, add 'Great Climate' to cart please!\" o...</td>\n",
       "      <td>huff</td>\n",
       "      <td>President Donald Trump vowed to make the Earth...</td>\n",
       "      <td>Twitter Users Baffled By Trump's 'Great Climat...</td>\n",
       "    </tr>\n",
       "  </tbody>\n",
       "</table>\n",
       "<p>444 rows × 4 columns</p>\n",
       "</div>"
      ],
      "text/plain": [
       "                                           description publisher  \\\n",
       "0    Democratic presidential candidate Beto O'Rourk...       fox   \n",
       "1    \"The Five\" host Jesse Watters had some tough w...       fox   \n",
       "2    Democrats who truly wish to address climate an...       fox   \n",
       "3    In the next few weeks California Gov. Gavin Ne...       fox   \n",
       "4    Climate change activists pulled an Earth Day s...       fox   \n",
       "5    Actor Alec Baldwin said Tuesday that his passi...       fox   \n",
       "6    Little has changed over at CBS, with the netwo...       fox   \n",
       "7    The hurricane pre-season hysteria is ramping u...       fox   \n",
       "8    Climate-change activists took over the Univers...       fox   \n",
       "9    The protesters who glued themselves to trains ...       fox   \n",
       "10   In a video released on Wednesday, Rep. Alexand...       fox   \n",
       "11   London has been brought to the halt after mili...       fox   \n",
       "12   Former Secretary of State John Kerry clashed w...       fox   \n",
       "13   While discussing the border crisis on “Your Wo...       fox   \n",
       "14   Conservative commentator Mark Steyn and \"Tucke...       fox   \n",
       "15   Rep. Alexandria Ocasio-Cortez, D.N.Y., unleash...       fox   \n",
       "16   News headlines sound alarms with fears about s...       fox   \n",
       "17   In this age of political hysteria, we must all...       fox   \n",
       "18   After releasing 12 years of tax returns on his...       fox   \n",
       "19   The United Nations' weather agency says extrem...       fox   \n",
       "20   I believe climate change is real. I believe th...       fox   \n",
       "21   U.S. Rep. Alexandria Ocasio-Cortez, D-N.Y., bl...       fox   \n",
       "22   Freshman Rep. Alexandria Ocasio-Cortez, D-N.Y....       fox   \n",
       "23   The Green New Deal is a pipe dream. But climat...       fox   \n",
       "24   In a video posted to social media on Monday, N...       fox   \n",
       "25   Former Vice President Al Gore turned up the rh...       fox   \n",
       "26   The world’s foremost expert on the harm of cli...       fox   \n",
       "27   Climate change could trigger a “civilization b...       fox   \n",
       "28   The Senate on Thursday confirmed former coal i...       fox   \n",
       "29   As leading 2020 Dems advocate spending trillio...       fox   \n",
       "..                                                 ...       ...   \n",
       "414  It cost a projected $4.1 trillion to run the f...      huff   \n",
       "415  \"His voice is the voice of climate denial,\" th...      huff   \n",
       "416  The \"Late Show\" host also dropped a different ...      huff   \n",
       "417  \"We're giving our $10 million tax cut back to ...      huff   \n",
       "418  New report examines experimental intervention ...      huff   \n",
       "419  The EPA's Andrew Wheeler said he \"wouldn't be ...      huff   \n",
       "420  Despite overwhelming proof, President Trump an...      huff   \n",
       "421                                              🙄 🙄 🙄      huff   \n",
       "422  The thirstiest source of electricity is alread...      huff   \n",
       "423  The president also claimed in an interview wit...      huff   \n",
       "424  The government's own climate report predicts t...      huff   \n",
       "425  Sarah Huckabee Sanders claimed the report is \"...      huff   \n",
       "426  The president's reaction to the federal govern...      huff   \n",
       "427  CNN host calls out the president for dismissin...      huff   \n",
       "428  “Right now, we’re the cleanest we’ve ever been...      huff   \n",
       "429  From an Amazon strike to a possible Mueller pl...      huff   \n",
       "430  The report, which came out on Black Friday, pr...      huff   \n",
       "431  The CNN political commentator praised the Trum...      huff   \n",
       "432  “We know that our climate is changing. Our cli...      huff   \n",
       "433  It's a \"transparent attempt to continue the ca...      huff   \n",
       "434  The warmer ocean waters of climate change enti...      huff   \n",
       "435  The White House's decision to release the repo...      huff   \n",
       "436  \"Climate isn’t a day, climate is long-term,\" C...      huff   \n",
       "437  On the eve of what's expected to be a cold Tha...      huff   \n",
       "438  These Northern Californians have lost their ho...      huff   \n",
       "439  This legislation would set a new standard for ...      huff   \n",
       "440  California Gov. Jerry Brown, however, disagree...      huff   \n",
       "441  The likely 2020 presidential candidate is dari...      huff   \n",
       "442  “I really hope that many of you join me here i...      huff   \n",
       "443  \"Alexa, add 'Great Climate' to cart please!\" o...      huff   \n",
       "\n",
       "                                                  text  \\\n",
       "0    Remember Beto?\\n\\nMonday former congressman fr...   \n",
       "1    \"The Five\" co-host Jesse Watters had some toug...   \n",
       "2    This week, Democrats in the House of Represent...   \n",
       "3    In the next few weeks, California Gov. Gavin N...   \n",
       "4    Here’s a headline for you: California climate ...   \n",
       "5    Actor Alec Baldwin said Tuesday that his passi...   \n",
       "6    CBS dug up for Earth Day a decades-old news cl...   \n",
       "7    The hurricane pre-season hysteria is ramping u...   \n",
       "8    Climate-change activists took over the Univers...   \n",
       "9    The protesters who glued themselves to trains ...   \n",
       "10   In a video released on Wednesday, Rep. Alexand...   \n",
       "11   London was brought to a standstill Wednesday m...   \n",
       "12   Former Secretary of State John Kerry and Rep. ...   \n",
       "13   While discussing the border crisis on “Your Wo...   \n",
       "14   Could toxic masculinity be the cause of climat...   \n",
       "15   Rep. Alexandria Ocasio-Cortez, D.N.Y., unleash...   \n",
       "16   SEATTLE -- With every flood, devastating wildf...   \n",
       "17   Throughout my 40 year career as a meteorologis...   \n",
       "18   After releasing 12 years of tax returns on his...   \n",
       "19   The United Nations' weather agency says extrem...   \n",
       "20   I believe climate change is real. I believe th...   \n",
       "21   U.S. Rep. Alexandria Ocasio-Cortez, D-N.Y., bl...   \n",
       "22   Freshman Rep. Alexandria Ocasio-Cortez, D-N.Y....   \n",
       "23   I agree with House Speaker Nancy Pelosi on one...   \n",
       "24   In a video posted to social media on Monday, N...   \n",
       "25   Former Vice President Al Gore turned up the rh...   \n",
       "26   The four Democratic Senators running for presi...   \n",
       "27   Climate change could trigger a “civilization b...   \n",
       "28   The Senate on Thursday confirmed former coal i...   \n",
       "29   As leading 2020 Dems advocate spending big on ...   \n",
       "..                                                 ...   \n",
       "414  It’s no secret where the Trump administration ...   \n",
       "415  Former Vice President Al Gore thinks President...   \n",
       "416  TONIGHT: A scary new climate change report giv...   \n",
       "417  Patagonia said Wednesday it planned to donate ...   \n",
       "418  Coral reefs, considered the canaries of the wo...   \n",
       "419  Environmental Protection Agency acting Adminis...   \n",
       "420  Real Life. Real News. Real Voices.\\n\\nHelp us ...   \n",
       "421  Another day, another presidential remark on cl...   \n",
       "422  ASSOCIATED PRESS The Three Mile Island nuclear...   \n",
       "423  Trump, who also rejected the findings of his o...   \n",
       "424  President Donald Trump asserted that he had “v...   \n",
       "425  The Trump administration appears to have settl...   \n",
       "426  “It’s like they edited his genes to give him s...   \n",
       "427  “We’re just suggesting, Mr. President, if you ...   \n",
       "428  President Donald Trump on Monday rejected the ...   \n",
       "429  ASSOCIATED PRESS Migrants cross the river at t...   \n",
       "430  CNN’s Brian Stelter on Sunday criticized Fox N...   \n",
       "431  Rick Santorum, the twice-failed Republican pre...   \n",
       "432  It seems that not even the Trump administratio...   \n",
       "433  Critics are slamming the Trump administration’...   \n",
       "434  Plunging temperatures and high winds off Cape ...   \n",
       "435  The United States already warmed on average 1....   \n",
       "436  In a tweet Thursday, President Donald Trump tr...   \n",
       "437  President Donald Trump once again cast doubt o...   \n",
       "438  Real Life. Real News. Real Voices.\\n\\nHelp us ...   \n",
       "439  A top New York City lawmaker unveiled landmark...   \n",
       "440  Just seconds after Interior Secretary Ryan Zin...   \n",
       "441  ASSOCIATED PRESS Sen. Bernie Sanders (I-Vt.) i...   \n",
       "442  In a significant escalation of her activism-dr...   \n",
       "443  President Donald Trump vowed to make the Earth...   \n",
       "\n",
       "                                                 title  \n",
       "0    Gutfeld on Beto's $5 trillion plan to save the...  \n",
       "1    Watters on Beto's climate plan: He's a 'scam a...  \n",
       "2    Mandy Gunasekara: Democrats should back Trump'...  \n",
       "3    California Gov. Newsom facing new pressure fro...  \n",
       "4    Tomi Lahren: California is the Golden State of...  \n",
       "5    Alec Baldwin calls for action on climate chang...  \n",
       "6    CBS resurfaces 1970 'Act or Die' alarmist clim...  \n",
       "7    Joe Bastardi: Hurricanes happen, whether they ...  \n",
       "8    Protesters climb Universal Studios globe in Ca...  \n",
       "9    Climate change protesters announce shift to po...  \n",
       "10   AOC narrates video from future in which her 'G...  \n",
       "11   Climate change protesters bring London to halt...  \n",
       "12   John Kerry clashes with Rep. Thomas Massie on ...  \n",
       "13   AOC's linkage of climate change and border sit...  \n",
       "14   Is 'toxic masculinity' melting the polar ice c...  \n",
       "15   Ocasio-Cortez likens GOP to 'Exorcist' girl, a...  \n",
       "16   Global warming bringing you down? Washington s...  \n",
       "17   Joe Bastardi: Climate change agenda is being d...  \n",
       "18   2020 hopeful Gov. Jay Inslee challenges Presid...  \n",
       "19   UN report: Extreme weather hit 62 million peop...  \n",
       "20   Sen. Lamar Alexander: Green New Deal would cos...  \n",
       "21   Ocasio-Cortez blasts GOP's upcoming ‘bluff-vot...  \n",
       "22   Ocasio-Cortez, in sick burn, compares Trump to...  \n",
       "23   Climate change is real but the Green New Deal ...  \n",
       "24   Bill de Blasio, pitching $10B climate change p...  \n",
       "25   Al Gore says climate change can ‘bring about t...  \n",
       "26   If we ignore costs of climate regulation on av...  \n",
       "27   'Birth Strike' founder argues future 'too frig...  \n",
       "28   Former coal lobbyist Andrew Wheeler confirmed ...  \n",
       "29   Despite Green New Deal push, climate change no...  \n",
       "..                                                 ...  \n",
       "414  The U.S. Could Cut Emissions By 80 Percent For...  \n",
       "415  Al Gore Torches Donald Trump: He 'Is Now The F...  \n",
       "416  Stephen Colbert Hits One Of Donald Trump's Dee...  \n",
       "417  Patagonia Donates $10 Million Tax Break To Gre...  \n",
       "418      The Radical Tools That Could Save Coral Reefs  \n",
       "419  Trump Administration May Reshape Next Federal ...  \n",
       "420  A Brief History Of The Trump Administration's ...  \n",
       "421  Scientists Respond To Trump’s Latest Unhinged ...  \n",
       "422  Trump Administration’s Climate Report Raises N...  \n",
       "423  Trump's 'Very High Levels Of Intelligence' Dra...  \n",
       "424  President Trump Says He's Too Intelligent To B...  \n",
       "425  Trump Administration Will Say Anything To Down...  \n",
       "426  Trevor Noah: Trump's Super Power Is 'Superhuma...  \n",
       "427  Anderson Cooper Taunts Trump With Suggestion O...  \n",
       "428  Trump On Climate Change Report: 'I Don't Belie...  \n",
       "429  Here Are Some Of The Stories You Missed Over T...  \n",
       "430  CNN's Brian Stelter Roasts Fox For Focusing On...  \n",
       "431  Twitter Users Burn Rick Santorum For Saying Cl...  \n",
       "432            GOP Shrugs Off Bombshell Climate Report  \n",
       "433  White House Lashed For 'Burying' Bombshell Cli...  \n",
       "434  Dozens Of Sea Turtles Found Frozen To Death At...  \n",
       "435  Federal Climate Report Predicts At Least 3 Deg...  \n",
       "436  CNN Meteorologist Schools Trump On The Meaning...  \n",
       "437  Scientists Slam Trump's Clueless Climate Chang...  \n",
       "438  Northern Californians Flee Fire, Move Into Ten...  \n",
       "439  New York City Just Unveiled A Historic Bill To...  \n",
       "440  Ryan Zinke Blames 'Radical Environmentalists' ...  \n",
       "441  Bernie Sanders To Host A Climate Town Hall, Am...  \n",
       "442  Alexandria Ocasio-Cortez Blesses New Push To O...  \n",
       "443  Twitter Users Baffled By Trump's 'Great Climat...  \n",
       "\n",
       "[444 rows x 4 columns]"
      ]
     },
     "execution_count": 24,
     "metadata": {},
     "output_type": "execute_result"
    }
   ],
   "source": [
    "combine"
   ]
  },
  {
   "cell_type": "markdown",
   "metadata": {},
   "source": [
    "# 3. Analysis"
   ]
  },
  {
   "cell_type": "markdown",
   "metadata": {},
   "source": [
    "Now that I have my data, I can perform various statistical analyses in order to ascertain the source of an article,  Fox News or Huffington Post. I will first create an array of dummy variables using the count vectorizer. The count vectorizer counts the number of times a token shows up in the document and uses this value as its weight. Furthermore, I will also implement the tfidf vectorizer which is similar to the count vectorizer, but now the weight also depends on the occurrence of a word in the entire corpora. With this newly created array, I will try to predict whether a given article belongs to Fox News or Huffington Post. In this study, I will use three models: 1) multinomial naive bayes 2) k nearest neighbors 3) random forest. "
   ]
  },
  {
   "cell_type": "code",
   "execution_count": 1,
   "metadata": {},
   "outputs": [],
   "source": [
    "import pandas as pd\n",
    "combine=pd.read_csv(\"/Users/halabanz/Desktop/Big Data/fox_huff-scrape.csv\")\n",
    "combine.drop(combine.columns[[0]], axis=1, inplace=True)"
   ]
  },
  {
   "cell_type": "code",
   "execution_count": 2,
   "metadata": {},
   "outputs": [],
   "source": [
    "import numpy as np\n",
    "\n",
    "from sklearn.feature_extraction.text import CountVectorizer\n",
    "from sklearn.feature_extraction.text import TfidfVectorizer\n",
    "\n",
    "from sklearn.model_selection import train_test_split\n",
    "from sklearn.metrics import classification_report, confusion_matrix, accuracy_score\n",
    "\n",
    "from sklearn.feature_extraction import stop_words\n",
    "\n",
    "from sklearn.naive_bayes import MultinomialNB\n",
    "from sklearn.neighbors import KNeighborsClassifier"
   ]
  },
  {
   "cell_type": "markdown",
   "metadata": {},
   "source": [
    "Before getting started, for my dependent variable, publisher, I convert from string type to numeric type. In this case, articles belonging to Fox News will be labeled '1' and articles belonging to Huffington Post will be labeled '0'."
   ]
  },
  {
   "cell_type": "code",
   "execution_count": 3,
   "metadata": {},
   "outputs": [
    {
     "data": {
      "text/plain": [
       "1    222\n",
       "0    222\n",
       "Name: publisher, dtype: int64"
      ]
     },
     "execution_count": 3,
     "metadata": {},
     "output_type": "execute_result"
    }
   ],
   "source": [
    "combine.loc[combine['publisher']=='fox','publisher']=1\n",
    "combine.loc[combine['publisher']=='huff','publisher']=0\n",
    "combine['publisher'].value_counts()"
   ]
  },
  {
   "cell_type": "markdown",
   "metadata": {},
   "source": [
    "Next, I randomly split my dataset into a training set (80% of dataframe) and a test set (20% of dataframe). The training set will be used to train my model (i.e. search for patterns) and the test set will be used to test the predictive strength and accuracy of my model. I do this until the number is balanced (45 vs 44)."
   ]
  },
  {
   "cell_type": "code",
   "execution_count": 4,
   "metadata": {},
   "outputs": [
    {
     "data": {
      "text/plain": [
       "0    45\n",
       "1    44\n",
       "Name: publisher, dtype: int64"
      ]
     },
     "execution_count": 4,
     "metadata": {},
     "output_type": "execute_result"
    }
   ],
   "source": [
    "train, test = train_test_split(combine, test_size=0.2)\n",
    "train['publisher'].value_counts()\n",
    "test['publisher'].value_counts()"
   ]
  },
  {
   "cell_type": "markdown",
   "metadata": {},
   "source": [
    "Next, I create a list of stop words. Stop words are important because they remove common words that are not really useful for the analysis like 'a' and 'the'. I also included other words as stop words that could impact the analysis. For example, I found that 'fox' often appears in Fox News articles. However, this word does not have anything to do with the rhetoric regarding climate change and, thus, should not contribute to the model. The same goes for other words like 'getty' which is simply the author of article photos. "
   ]
  },
  {
   "cell_type": "code",
   "execution_count": 5,
   "metadata": {},
   "outputs": [],
   "source": [
    "from sklearn.feature_extraction import text \n",
    "list_stop=['___','getty','huffpost','huff','huffington','fox','https','click','facebook','twitter']\n",
    "stop_words = text.ENGLISH_STOP_WORDS.union(list_stop)"
   ]
  },
  {
   "cell_type": "markdown",
   "metadata": {},
   "source": [
    "# 3.1. Count Vectorizer "
   ]
  },
  {
   "cell_type": "markdown",
   "metadata": {},
   "source": [
    "Here, I create create my array of variables using the count vectorizer."
   ]
  },
  {
   "cell_type": "code",
   "execution_count": 6,
   "metadata": {},
   "outputs": [],
   "source": [
    "cv=CountVectorizer(lowercase = True,\n",
    "stop_words = stop_words,\n",
    "min_df = 2,\n",
    "ngram_range = (1,2)) "
   ]
  },
  {
   "cell_type": "code",
   "execution_count": 7,
   "metadata": {},
   "outputs": [],
   "source": [
    "x_traincv=cv.fit_transform(train['text'])\n",
    "x_testcv=cv.transform(test['text'])\n",
    "\n",
    "y_traincv=train['publisher']\n",
    "y_traincv=y_traincv.astype('int')\n",
    "\n",
    "y_testcv=test['publisher']\n",
    "y_testcv=y_testcv.astype('int')"
   ]
  },
  {
   "cell_type": "markdown",
   "metadata": {},
   "source": [
    "# 3.1.1 Multinomial Naive Bayes "
   ]
  },
  {
   "cell_type": "code",
   "execution_count": 8,
   "metadata": {},
   "outputs": [
    {
     "data": {
      "text/plain": [
       "MultinomialNB(alpha=1.0, class_prior=None, fit_prior=True)"
      ]
     },
     "execution_count": 8,
     "metadata": {},
     "output_type": "execute_result"
    }
   ],
   "source": [
    "mnb=MultinomialNB()\n",
    "mnb.fit(x_traincv,y_traincv)"
   ]
  },
  {
   "cell_type": "markdown",
   "metadata": {},
   "source": [
    "The results show that the multinomial naive bayes model using the count vectorizer array achieved nearly 100% accuracy. This, however, is on the training data, so this isn't so impressive. To truly test the model, I run it on the test data."
   ]
  },
  {
   "cell_type": "code",
   "execution_count": 9,
   "metadata": {},
   "outputs": [
    {
     "name": "stdout",
     "output_type": "stream",
     "text": [
      "0.9774647887323944\n"
     ]
    }
   ],
   "source": [
    "pred_mnbcv_train=mnb.predict(x_traincv)\n",
    "print(accuracy_score(y_traincv, pred_mnbcv_train))"
   ]
  },
  {
   "cell_type": "markdown",
   "metadata": {},
   "source": [
    "We can see that the accuracy drops about 10 percentage points, but the predictive power is still quite good. Furthermore, the fall in accuracy tells us that our model is not overfitting the data. Based on this model, I think it's fair to say that there is a difference in climate change rhetoric between Fox News and the Huffington Post."
   ]
  },
  {
   "cell_type": "code",
   "execution_count": 10,
   "metadata": {},
   "outputs": [
    {
     "name": "stdout",
     "output_type": "stream",
     "text": [
      "0.8651685393258427\n"
     ]
    }
   ],
   "source": [
    "predmnbcv_test=mnb.predict(x_testcv)\n",
    "print(accuracy_score(y_testcv, predmnbcv_test))"
   ]
  },
  {
   "cell_type": "markdown",
   "metadata": {},
   "source": [
    "The confusion matrix is not so interesting in this case as it looks like the true postive, false positive, and false negative rates are all pretty similar for both Fox News and Huffington Post."
   ]
  },
  {
   "cell_type": "code",
   "execution_count": 11,
   "metadata": {},
   "outputs": [
    {
     "data": {
      "text/html": [
       "<div>\n",
       "<style scoped>\n",
       "    .dataframe tbody tr th:only-of-type {\n",
       "        vertical-align: middle;\n",
       "    }\n",
       "\n",
       "    .dataframe tbody tr th {\n",
       "        vertical-align: top;\n",
       "    }\n",
       "\n",
       "    .dataframe thead th {\n",
       "        text-align: right;\n",
       "    }\n",
       "</style>\n",
       "<table border=\"1\" class=\"dataframe\">\n",
       "  <thead>\n",
       "    <tr style=\"text-align: right;\">\n",
       "      <th>Predicted</th>\n",
       "      <th>0</th>\n",
       "      <th>1</th>\n",
       "    </tr>\n",
       "    <tr>\n",
       "      <th>Actual</th>\n",
       "      <th></th>\n",
       "      <th></th>\n",
       "    </tr>\n",
       "  </thead>\n",
       "  <tbody>\n",
       "    <tr>\n",
       "      <th>0</th>\n",
       "      <td>40</td>\n",
       "      <td>5</td>\n",
       "    </tr>\n",
       "    <tr>\n",
       "      <th>1</th>\n",
       "      <td>7</td>\n",
       "      <td>37</td>\n",
       "    </tr>\n",
       "  </tbody>\n",
       "</table>\n",
       "</div>"
      ],
      "text/plain": [
       "Predicted   0   1\n",
       "Actual           \n",
       "0          40   5\n",
       "1           7  37"
      ]
     },
     "execution_count": 11,
     "metadata": {},
     "output_type": "execute_result"
    }
   ],
   "source": [
    "actual_values=np.array(y_testcv) \n",
    "actual_range = range(len(actual_values))\n",
    "\n",
    "y_testcv.index=actual_range #need to reorder index so it matches with pred\n",
    "\n",
    "actual = pd.Series(y_testcv, name='Actual')\n",
    "prediction_mnbcv= pd.Series(mnb.predict(x_testcv), name='Predicted')\n",
    "df_confusion_mnbcv = pd.crosstab(actual, prediction_mnbcv)\n",
    "df_confusion_mnbcv"
   ]
  },
  {
   "cell_type": "markdown",
   "metadata": {},
   "source": [
    "Next, I explore how the language between both sites actually differ by examining the coefficients of the model. The coefficients are essentially the log of the estimated probability of a feature given the positive class. Since Fox News is labeled as '1' (positive class) and the coefficients listed below are negative, the model conveys that if an article contains 'commerce committee', for example, then it is less likely to be classified as a Fox News article. In other words, they are more likely to be found in Huffington Post articles. Because there are many words with coefficient around -11, it would be difficult to make a general statement about what they all mean in regards to climate change. However, if I pick out a few words like 'overfishing', 'crisis threatens','plastic pollution','coral bleaching', etc. an argument can be made that these words convey the adverse impacts of climate change. This makes sense as we would expect the Huffington Post, a liberal media outlet, to push for climate change action."
   ]
  },
  {
   "cell_type": "code",
   "execution_count": 12,
   "metadata": {
    "scrolled": true
   },
   "outputs": [
    {
     "data": {
      "text/plain": [
       "commerce committee       -11.409585\n",
       "peddling                 -11.409585\n",
       "pegged                   -11.409585\n",
       "pegged number            -11.409585\n",
       "peggy                    -11.409585\n",
       "curb greenhouse          -11.409585\n",
       "pelosi allies            -11.409585\n",
       "pelosi plan              -11.409585\n",
       "pelosi power             -11.409585\n",
       "cultural                 -11.409585\n",
       "cult claimed             -11.409585\n",
       "cult                     -11.409585\n",
       "pelosi said              -11.409585\n",
       "cruz texas               -11.409585\n",
       "pension                  -11.409585\n",
       "crumbling                -11.409585\n",
       "crown                    -11.409585\n",
       "people care              -11.409585\n",
       "current assessment       -11.409585\n",
       "current climate          -11.409585\n",
       "peddle                   -11.409585\n",
       "peatlands                -11.409585\n",
       "passionate               -11.409585\n",
       "cutoff                   -11.409585\n",
       "past century             -11.409585\n",
       "past couple              -11.409585\n",
       "past month               -11.409585\n",
       "past months              -11.409585\n",
       "cut global               -11.409585\n",
       "past week                -11.409585\n",
       "                            ...    \n",
       "criticizing              -11.409585\n",
       "criticized republicans   -11.409585\n",
       "people just              -11.409585\n",
       "people country           -11.409585\n",
       "people lives             -11.409585\n",
       "critical habitat         -11.409585\n",
       "people nation            -11.409585\n",
       "people people            -11.409585\n",
       "crisis threatens         -11.409585\n",
       "crisis scientists        -11.409585\n",
       "crisis driven            -11.409585\n",
       "people said              -11.409585\n",
       "people say               -11.409585\n",
       "people lost              -11.409585\n",
       "percent marine           -11.409585\n",
       "pass legislation         -11.409585\n",
       "party leaders            -11.409585\n",
       "overdue climate          -11.409585\n",
       "overfishing              -11.409585\n",
       "day lack                 -11.409585\n",
       "day having               -11.409585\n",
       "overhaul economy         -11.409585\n",
       "overlooked               -11.409585\n",
       "overlooking              -11.409585\n",
       "oversee                  -11.409585\n",
       "davos switzerland        -11.409585\n",
       "davos                    -11.409585\n",
       "davies said              -11.409585\n",
       "davies director          -11.409585\n",
       "davies                   -11.409585\n",
       "Length: 100, dtype: float64"
      ]
     },
     "execution_count": 12,
     "metadata": {},
     "output_type": "execute_result"
    }
   ],
   "source": [
    "coeficients_mnbcv = pd.Series(mnb.coef_[0],\n",
    "index=cv.get_feature_names())\n",
    "coeficients_mnbcv.sort_values()[:100]"
   ]
  },
  {
   "cell_type": "markdown",
   "metadata": {},
   "source": [
    "# 3.1.2 K Nearest Neighbor "
   ]
  },
  {
   "cell_type": "markdown",
   "metadata": {},
   "source": [
    "In this section, I implement the k nearest neighbor (knn) algorithm. "
   ]
  },
  {
   "cell_type": "code",
   "execution_count": 13,
   "metadata": {},
   "outputs": [],
   "source": [
    "knn_classifier = KNeighborsClassifier(n_neighbors = 3)"
   ]
  },
  {
   "cell_type": "code",
   "execution_count": 14,
   "metadata": {},
   "outputs": [
    {
     "data": {
      "text/plain": [
       "KNeighborsClassifier(algorithm='auto', leaf_size=30, metric='minkowski',\n",
       "           metric_params=None, n_jobs=None, n_neighbors=3, p=2,\n",
       "           weights='uniform')"
      ]
     },
     "execution_count": 14,
     "metadata": {},
     "output_type": "execute_result"
    }
   ],
   "source": [
    "knn_classifier.fit(x_traincv, y_traincv)"
   ]
  },
  {
   "cell_type": "code",
   "execution_count": 15,
   "metadata": {},
   "outputs": [
    {
     "name": "stdout",
     "output_type": "stream",
     "text": [
      "0.7746478873239436\n"
     ]
    }
   ],
   "source": [
    "#on training data\n",
    "knn_train_prediction_cv = knn_classifier.predict(x_traincv)\n",
    "print(accuracy_score(y_traincv, knn_train_prediction_cv))"
   ]
  },
  {
   "cell_type": "code",
   "execution_count": 16,
   "metadata": {},
   "outputs": [
    {
     "name": "stderr",
     "output_type": "stream",
     "text": [
      "/Users/halabanz/anaconda3/lib/python3.7/site-packages/ipykernel_launcher.py:1: SettingWithCopyWarning: \n",
      "A value is trying to be set on a copy of a slice from a DataFrame.\n",
      "Try using .loc[row_indexer,col_indexer] = value instead\n",
      "\n",
      "See the caveats in the documentation: http://pandas.pydata.org/pandas-docs/stable/indexing.html#indexing-view-versus-copy\n",
      "  \"\"\"Entry point for launching an IPython kernel.\n"
     ]
    },
    {
     "data": {
      "text/html": [
       "<div>\n",
       "<style scoped>\n",
       "    .dataframe tbody tr th:only-of-type {\n",
       "        vertical-align: middle;\n",
       "    }\n",
       "\n",
       "    .dataframe tbody tr th {\n",
       "        vertical-align: top;\n",
       "    }\n",
       "\n",
       "    .dataframe thead th {\n",
       "        text-align: right;\n",
       "    }\n",
       "</style>\n",
       "<table border=\"1\" class=\"dataframe\">\n",
       "  <thead>\n",
       "    <tr style=\"text-align: right;\">\n",
       "      <th>prediction</th>\n",
       "      <th>0</th>\n",
       "      <th>1</th>\n",
       "    </tr>\n",
       "    <tr>\n",
       "      <th>publisher</th>\n",
       "      <th></th>\n",
       "      <th></th>\n",
       "    </tr>\n",
       "  </thead>\n",
       "  <tbody>\n",
       "    <tr>\n",
       "      <th>0</th>\n",
       "      <td>148</td>\n",
       "      <td>29</td>\n",
       "    </tr>\n",
       "    <tr>\n",
       "      <th>1</th>\n",
       "      <td>51</td>\n",
       "      <td>127</td>\n",
       "    </tr>\n",
       "  </tbody>\n",
       "</table>\n",
       "</div>"
      ],
      "text/plain": [
       "prediction    0    1\n",
       "publisher           \n",
       "0           148   29\n",
       "1            51  127"
      ]
     },
     "execution_count": 16,
     "metadata": {},
     "output_type": "execute_result"
    }
   ],
   "source": [
    "train['prediction'] = knn_classifier.predict(x_traincv)\n",
    "pd.crosstab(train['publisher'], train['prediction'])"
   ]
  },
  {
   "cell_type": "code",
   "execution_count": 17,
   "metadata": {},
   "outputs": [
    {
     "name": "stdout",
     "output_type": "stream",
     "text": [
      "0.5955056179775281\n"
     ]
    }
   ],
   "source": [
    "#on test data\n",
    "knn_test_prediction_cv = knn_classifier.predict(x_testcv)\n",
    "print(accuracy_score(y_testcv, knn_test_prediction_cv))"
   ]
  },
  {
   "cell_type": "code",
   "execution_count": 18,
   "metadata": {},
   "outputs": [
    {
     "name": "stderr",
     "output_type": "stream",
     "text": [
      "/Users/halabanz/anaconda3/lib/python3.7/site-packages/ipykernel_launcher.py:1: SettingWithCopyWarning: \n",
      "A value is trying to be set on a copy of a slice from a DataFrame.\n",
      "Try using .loc[row_indexer,col_indexer] = value instead\n",
      "\n",
      "See the caveats in the documentation: http://pandas.pydata.org/pandas-docs/stable/indexing.html#indexing-view-versus-copy\n",
      "  \"\"\"Entry point for launching an IPython kernel.\n"
     ]
    },
    {
     "data": {
      "text/html": [
       "<div>\n",
       "<style scoped>\n",
       "    .dataframe tbody tr th:only-of-type {\n",
       "        vertical-align: middle;\n",
       "    }\n",
       "\n",
       "    .dataframe tbody tr th {\n",
       "        vertical-align: top;\n",
       "    }\n",
       "\n",
       "    .dataframe thead th {\n",
       "        text-align: right;\n",
       "    }\n",
       "</style>\n",
       "<table border=\"1\" class=\"dataframe\">\n",
       "  <thead>\n",
       "    <tr style=\"text-align: right;\">\n",
       "      <th>prediction</th>\n",
       "      <th>0</th>\n",
       "      <th>1</th>\n",
       "    </tr>\n",
       "    <tr>\n",
       "      <th>publisher</th>\n",
       "      <th></th>\n",
       "      <th></th>\n",
       "    </tr>\n",
       "  </thead>\n",
       "  <tbody>\n",
       "    <tr>\n",
       "      <th>0</th>\n",
       "      <td>32</td>\n",
       "      <td>13</td>\n",
       "    </tr>\n",
       "    <tr>\n",
       "      <th>1</th>\n",
       "      <td>23</td>\n",
       "      <td>21</td>\n",
       "    </tr>\n",
       "  </tbody>\n",
       "</table>\n",
       "</div>"
      ],
      "text/plain": [
       "prediction   0   1\n",
       "publisher         \n",
       "0           32  13\n",
       "1           23  21"
      ]
     },
     "execution_count": 18,
     "metadata": {},
     "output_type": "execute_result"
    }
   ],
   "source": [
    "test['prediction'] = knn_classifier.predict(x_testcv)\n",
    "pd.crosstab(test['publisher'], test['prediction'])"
   ]
  },
  {
   "cell_type": "markdown",
   "metadata": {},
   "source": [
    "knn performs considerably worse than the naive bayes model, even after adjusting the number of clusters. For the test data, its accuracy falls around 15%. Taking a look at the confusion matrix for the test data indicates that there are a large proportion of false negatives for Fox News articles. That is, the model incorrectly classified 19 Fox News articles as Huffington Post articles."
   ]
  },
  {
   "cell_type": "markdown",
   "metadata": {},
   "source": [
    "# 3.1.3 Random Forest"
   ]
  },
  {
   "cell_type": "markdown",
   "metadata": {},
   "source": [
    "For the last model in the count vectorized data, I use a random forest."
   ]
  },
  {
   "cell_type": "code",
   "execution_count": 19,
   "metadata": {},
   "outputs": [
    {
     "name": "stderr",
     "output_type": "stream",
     "text": [
      "/Users/halabanz/anaconda3/lib/python3.7/site-packages/sklearn/ensemble/forest.py:246: FutureWarning: The default value of n_estimators will change from 10 in version 0.20 to 100 in 0.22.\n",
      "  \"10 in version 0.20 to 100 in 0.22.\", FutureWarning)\n"
     ]
    },
    {
     "data": {
      "text/plain": [
       "RandomForestClassifier(bootstrap=True, class_weight=None, criterion='gini',\n",
       "            max_depth=None, max_features='auto', max_leaf_nodes=None,\n",
       "            min_impurity_decrease=0.0, min_impurity_split=None,\n",
       "            min_samples_leaf=1, min_samples_split=2,\n",
       "            min_weight_fraction_leaf=0.0, n_estimators=10, n_jobs=None,\n",
       "            oob_score=False, random_state=None, verbose=0,\n",
       "            warm_start=False)"
      ]
     },
     "execution_count": 19,
     "metadata": {},
     "output_type": "execute_result"
    }
   ],
   "source": [
    "from sklearn.ensemble import RandomForestClassifier\n",
    "rf = RandomForestClassifier()\n",
    "rf.fit(x_traincv, y_traincv)"
   ]
  },
  {
   "cell_type": "code",
   "execution_count": 20,
   "metadata": {},
   "outputs": [
    {
     "data": {
      "text/plain": [
       "array([1, 1, 1, 1, 0, 0, 1, 0, 0, 0, 0, 0, 0, 1, 0, 0, 0, 0, 0, 1, 0, 1,\n",
       "       1, 0, 0, 0, 1, 0, 0, 1, 1, 1, 0, 0, 1, 1, 1, 1, 0, 1, 0, 0, 0, 0,\n",
       "       1, 1, 1, 0, 1, 1, 0, 0, 0, 1, 1, 0, 0, 0, 1, 1, 0, 1, 1, 1, 1, 1,\n",
       "       1, 0, 0, 1, 1, 0, 0, 1, 1, 0, 0, 0, 0, 1, 0, 0, 1, 1, 0, 0, 0, 1,\n",
       "       0])"
      ]
     },
     "execution_count": 20,
     "metadata": {},
     "output_type": "execute_result"
    }
   ],
   "source": [
    "pred_rf=rf.predict(x_testcv)\n",
    "pred_rf"
   ]
  },
  {
   "cell_type": "code",
   "execution_count": 21,
   "metadata": {},
   "outputs": [
    {
     "data": {
      "text/plain": [
       "0.7865168539325843"
      ]
     },
     "execution_count": 21,
     "metadata": {},
     "output_type": "execute_result"
    }
   ],
   "source": [
    "count=0\n",
    "for i in range (len(pred_rf)):\n",
    "    if pred_rf[i]==actual[i]:\n",
    "        count=count+1\n",
    "        \n",
    "numerator=count\n",
    "denominator=len(pred_rf)\n",
    "numerator/denominator "
   ]
  },
  {
   "cell_type": "code",
   "execution_count": 22,
   "metadata": {},
   "outputs": [
    {
     "data": {
      "text/html": [
       "<div>\n",
       "<style scoped>\n",
       "    .dataframe tbody tr th:only-of-type {\n",
       "        vertical-align: middle;\n",
       "    }\n",
       "\n",
       "    .dataframe tbody tr th {\n",
       "        vertical-align: top;\n",
       "    }\n",
       "\n",
       "    .dataframe thead th {\n",
       "        text-align: right;\n",
       "    }\n",
       "</style>\n",
       "<table border=\"1\" class=\"dataframe\">\n",
       "  <thead>\n",
       "    <tr style=\"text-align: right;\">\n",
       "      <th></th>\n",
       "      <th>importance</th>\n",
       "    </tr>\n",
       "  </thead>\n",
       "  <tbody>\n",
       "    <tr>\n",
       "      <th>app</th>\n",
       "      <td>0.019167</td>\n",
       "    </tr>\n",
       "    <tr>\n",
       "      <th>president donald</th>\n",
       "      <td>0.016822</td>\n",
       "    </tr>\n",
       "    <tr>\n",
       "      <th>pic com</th>\n",
       "      <td>0.013314</td>\n",
       "    </tr>\n",
       "    <tr>\n",
       "      <th>pic</th>\n",
       "      <td>0.012541</td>\n",
       "    </tr>\n",
       "    <tr>\n",
       "      <th>news app</th>\n",
       "      <td>0.011766</td>\n",
       "    </tr>\n",
       "    <tr>\n",
       "      <th>green new</th>\n",
       "      <td>0.011484</td>\n",
       "    </tr>\n",
       "    <tr>\n",
       "      <th>new deal</th>\n",
       "      <td>0.011263</td>\n",
       "    </tr>\n",
       "    <tr>\n",
       "      <th>explained</th>\n",
       "      <td>0.007918</td>\n",
       "    </tr>\n",
       "    <tr>\n",
       "      <th>stories matter</th>\n",
       "      <td>0.007577</td>\n",
       "    </tr>\n",
       "    <tr>\n",
       "      <th>clear</th>\n",
       "      <td>0.006179</td>\n",
       "    </tr>\n",
       "    <tr>\n",
       "      <th>national</th>\n",
       "      <td>0.006163</td>\n",
       "    </tr>\n",
       "    <tr>\n",
       "      <th>sen</th>\n",
       "      <td>0.006133</td>\n",
       "    </tr>\n",
       "    <tr>\n",
       "      <th>late year</th>\n",
       "      <td>0.006131</td>\n",
       "    </tr>\n",
       "    <tr>\n",
       "      <th>findings</th>\n",
       "      <td>0.005791</td>\n",
       "    </tr>\n",
       "    <tr>\n",
       "      <th>launched</th>\n",
       "      <td>0.005592</td>\n",
       "    </tr>\n",
       "    <tr>\n",
       "      <th>climate change</th>\n",
       "      <td>0.005494</td>\n",
       "    </tr>\n",
       "    <tr>\n",
       "      <th>elect</th>\n",
       "      <td>0.005472</td>\n",
       "    </tr>\n",
       "    <tr>\n",
       "      <th>images</th>\n",
       "      <td>0.005457</td>\n",
       "    </tr>\n",
       "    <tr>\n",
       "      <th>year</th>\n",
       "      <td>0.005444</td>\n",
       "    </tr>\n",
       "    <tr>\n",
       "      <th>real life</th>\n",
       "      <td>0.005386</td>\n",
       "    </tr>\n",
       "    <tr>\n",
       "      <th>american public</th>\n",
       "      <td>0.005329</td>\n",
       "    </tr>\n",
       "    <tr>\n",
       "      <th>president trump</th>\n",
       "      <td>0.005307</td>\n",
       "    </tr>\n",
       "    <tr>\n",
       "      <th>cortez</th>\n",
       "      <td>0.005037</td>\n",
       "    </tr>\n",
       "    <tr>\n",
       "      <th>donald</th>\n",
       "      <td>0.004997</td>\n",
       "    </tr>\n",
       "    <tr>\n",
       "      <th>october</th>\n",
       "      <td>0.004891</td>\n",
       "    </tr>\n",
       "    <tr>\n",
       "      <th>http</th>\n",
       "      <td>0.004860</td>\n",
       "    </tr>\n",
       "    <tr>\n",
       "      <th>unprecedented</th>\n",
       "      <td>0.004764</td>\n",
       "    </tr>\n",
       "    <tr>\n",
       "      <th>idea</th>\n",
       "      <td>0.004725</td>\n",
       "    </tr>\n",
       "    <tr>\n",
       "      <th>address climate</th>\n",
       "      <td>0.004668</td>\n",
       "    </tr>\n",
       "    <tr>\n",
       "      <th>biggest</th>\n",
       "      <td>0.004543</td>\n",
       "    </tr>\n",
       "    <tr>\n",
       "      <th>...</th>\n",
       "      <td>...</td>\n",
       "    </tr>\n",
       "    <tr>\n",
       "      <th>everyday americans</th>\n",
       "      <td>0.000000</td>\n",
       "    </tr>\n",
       "    <tr>\n",
       "      <th>evidence</th>\n",
       "      <td>0.000000</td>\n",
       "    </tr>\n",
       "    <tr>\n",
       "      <th>evidence based</th>\n",
       "      <td>0.000000</td>\n",
       "    </tr>\n",
       "    <tr>\n",
       "      <th>evidence global</th>\n",
       "      <td>0.000000</td>\n",
       "    </tr>\n",
       "    <tr>\n",
       "      <th>evidence shows</th>\n",
       "      <td>0.000000</td>\n",
       "    </tr>\n",
       "    <tr>\n",
       "      <th>evil</th>\n",
       "      <td>0.000000</td>\n",
       "    </tr>\n",
       "    <tr>\n",
       "      <th>evolution</th>\n",
       "      <td>0.000000</td>\n",
       "    </tr>\n",
       "    <tr>\n",
       "      <th>evolving</th>\n",
       "      <td>0.000000</td>\n",
       "    </tr>\n",
       "    <tr>\n",
       "      <th>exacerbate</th>\n",
       "      <td>0.000000</td>\n",
       "    </tr>\n",
       "    <tr>\n",
       "      <th>exacerbated</th>\n",
       "      <td>0.000000</td>\n",
       "    </tr>\n",
       "    <tr>\n",
       "      <th>exact</th>\n",
       "      <td>0.000000</td>\n",
       "    </tr>\n",
       "    <tr>\n",
       "      <th>exactly</th>\n",
       "      <td>0.000000</td>\n",
       "    </tr>\n",
       "    <tr>\n",
       "      <th>exactly expect</th>\n",
       "      <td>0.000000</td>\n",
       "    </tr>\n",
       "    <tr>\n",
       "      <th>examination</th>\n",
       "      <td>0.000000</td>\n",
       "    </tr>\n",
       "    <tr>\n",
       "      <th>excellence</th>\n",
       "      <td>0.000000</td>\n",
       "    </tr>\n",
       "    <tr>\n",
       "      <th>examine</th>\n",
       "      <td>0.000000</td>\n",
       "    </tr>\n",
       "    <tr>\n",
       "      <th>examined sea</th>\n",
       "      <td>0.000000</td>\n",
       "    </tr>\n",
       "    <tr>\n",
       "      <th>examiner</th>\n",
       "      <td>0.000000</td>\n",
       "    </tr>\n",
       "    <tr>\n",
       "      <th>examining</th>\n",
       "      <td>0.000000</td>\n",
       "    </tr>\n",
       "    <tr>\n",
       "      <th>example</th>\n",
       "      <td>0.000000</td>\n",
       "    </tr>\n",
       "    <tr>\n",
       "      <th>example climate</th>\n",
       "      <td>0.000000</td>\n",
       "    </tr>\n",
       "    <tr>\n",
       "      <th>example president</th>\n",
       "      <td>0.000000</td>\n",
       "    </tr>\n",
       "    <tr>\n",
       "      <th>example seas</th>\n",
       "      <td>0.000000</td>\n",
       "    </tr>\n",
       "    <tr>\n",
       "      <th>examples</th>\n",
       "      <td>0.000000</td>\n",
       "    </tr>\n",
       "    <tr>\n",
       "      <th>exceed</th>\n",
       "      <td>0.000000</td>\n",
       "    </tr>\n",
       "    <tr>\n",
       "      <th>exceed degrees</th>\n",
       "      <td>0.000000</td>\n",
       "    </tr>\n",
       "    <tr>\n",
       "      <th>exceeded</th>\n",
       "      <td>0.000000</td>\n",
       "    </tr>\n",
       "    <tr>\n",
       "      <th>exceeding</th>\n",
       "      <td>0.000000</td>\n",
       "    </tr>\n",
       "    <tr>\n",
       "      <th>exceedingly</th>\n",
       "      <td>0.000000</td>\n",
       "    </tr>\n",
       "    <tr>\n",
       "      <th>zones</th>\n",
       "      <td>0.000000</td>\n",
       "    </tr>\n",
       "  </tbody>\n",
       "</table>\n",
       "<p>18005 rows × 1 columns</p>\n",
       "</div>"
      ],
      "text/plain": [
       "                    importance\n",
       "app                   0.019167\n",
       "president donald      0.016822\n",
       "pic com               0.013314\n",
       "pic                   0.012541\n",
       "news app              0.011766\n",
       "green new             0.011484\n",
       "new deal              0.011263\n",
       "explained             0.007918\n",
       "stories matter        0.007577\n",
       "clear                 0.006179\n",
       "national              0.006163\n",
       "sen                   0.006133\n",
       "late year             0.006131\n",
       "findings              0.005791\n",
       "launched              0.005592\n",
       "climate change        0.005494\n",
       "elect                 0.005472\n",
       "images                0.005457\n",
       "year                  0.005444\n",
       "real life             0.005386\n",
       "american public       0.005329\n",
       "president trump       0.005307\n",
       "cortez                0.005037\n",
       "donald                0.004997\n",
       "october               0.004891\n",
       "http                  0.004860\n",
       "unprecedented         0.004764\n",
       "idea                  0.004725\n",
       "address climate       0.004668\n",
       "biggest               0.004543\n",
       "...                        ...\n",
       "everyday americans    0.000000\n",
       "evidence              0.000000\n",
       "evidence based        0.000000\n",
       "evidence global       0.000000\n",
       "evidence shows        0.000000\n",
       "evil                  0.000000\n",
       "evolution             0.000000\n",
       "evolving              0.000000\n",
       "exacerbate            0.000000\n",
       "exacerbated           0.000000\n",
       "exact                 0.000000\n",
       "exactly               0.000000\n",
       "exactly expect        0.000000\n",
       "examination           0.000000\n",
       "excellence            0.000000\n",
       "examine               0.000000\n",
       "examined sea          0.000000\n",
       "examiner              0.000000\n",
       "examining             0.000000\n",
       "example               0.000000\n",
       "example climate       0.000000\n",
       "example president     0.000000\n",
       "example seas          0.000000\n",
       "examples              0.000000\n",
       "exceed                0.000000\n",
       "exceed degrees        0.000000\n",
       "exceeded              0.000000\n",
       "exceeding             0.000000\n",
       "exceedingly           0.000000\n",
       "zones                 0.000000\n",
       "\n",
       "[18005 rows x 1 columns]"
      ]
     },
     "execution_count": 22,
     "metadata": {},
     "output_type": "execute_result"
    }
   ],
   "source": [
    "feature_importances1 = pd.DataFrame(rf.feature_importances_,\n",
    "                                   index = cv.get_feature_names(),\n",
    "                                    columns=['importance']).sort_values('importance',ascending=False)\n",
    "feature_importances1"
   ]
  },
  {
   "cell_type": "markdown",
   "metadata": {},
   "source": [
    "The random forest model performs decently with an accuracy of around 78%. I also took a look at what words were most important in classifying the origins of the article. However, these features don't really make sense to me and dont provide insight."
   ]
  },
  {
   "cell_type": "markdown",
   "metadata": {},
   "source": [
    "# 3.2 TFIDF"
   ]
  },
  {
   "cell_type": "markdown",
   "metadata": {},
   "source": [
    "In this section, we run the same three models, but this time on tfidf vectorized data."
   ]
  },
  {
   "cell_type": "code",
   "execution_count": 23,
   "metadata": {},
   "outputs": [],
   "source": [
    "#tfidf method\n",
    "tf=TfidfVectorizer(min_df = 2,\n",
    "stop_words=stop_words,\n",
    "ngram_range = (1,2)) "
   ]
  },
  {
   "cell_type": "code",
   "execution_count": 24,
   "metadata": {},
   "outputs": [
    {
     "data": {
      "text/plain": [
       "TfidfVectorizer(analyzer='word', binary=False, decode_error='strict',\n",
       "        dtype=<class 'numpy.float64'>, encoding='utf-8', input='content',\n",
       "        lowercase=True, max_df=1.0, max_features=None, min_df=2,\n",
       "        ngram_range=(1, 2), norm='l2', preprocessor=None, smooth_idf=True,\n",
       "        stop_words=frozenset({'inc', 'each', 'system', 'mill', 'sometime', 're', 'anyway', 'upon', 'have', 'third', 'their', 'others', 'any', 'take', 'eg', 'amoungst', 'every', 'see', 'seeming', 'up', 'nobody', 'hereby', 'therein', 'whose', 'almost', 'four', 'be', 'huffington', 'else', 'next', 'might', 'lat...omehow', 'towards', 'name', 'interest', 'he', 'became', 'to', 'fifteen', 'between', 'who', 'where'}),\n",
       "        strip_accents=None, sublinear_tf=False,\n",
       "        token_pattern='(?u)\\\\b\\\\w\\\\w+\\\\b', tokenizer=None, use_idf=True,\n",
       "        vocabulary=None)"
      ]
     },
     "execution_count": 24,
     "metadata": {},
     "output_type": "execute_result"
    }
   ],
   "source": [
    "tf.fit(train['text'])"
   ]
  },
  {
   "cell_type": "code",
   "execution_count": 25,
   "metadata": {},
   "outputs": [],
   "source": [
    "x_traintf=tf.transform(train['text'])\n",
    "x_testtf=tf.transform(test['text'])\n",
    "\n",
    "y_traintf=train['publisher']\n",
    "y_traintf=y_traintf.astype('int')\n",
    "\n",
    "y_testtf=test['publisher']\n",
    "y_testtf=y_testtf.astype('int')"
   ]
  },
  {
   "cell_type": "markdown",
   "metadata": {},
   "source": [
    "# 3.2.1 Multinomial Naive Bayes "
   ]
  },
  {
   "cell_type": "markdown",
   "metadata": {},
   "source": [
    "This time, the multinomial naive bayes model is run on tfidf vectorized data."
   ]
  },
  {
   "cell_type": "code",
   "execution_count": 26,
   "metadata": {},
   "outputs": [
    {
     "data": {
      "text/plain": [
       "MultinomialNB(alpha=1.0, class_prior=None, fit_prior=True)"
      ]
     },
     "execution_count": 26,
     "metadata": {},
     "output_type": "execute_result"
    }
   ],
   "source": [
    "mnb.fit(x_traintf,y_traintf)"
   ]
  },
  {
   "cell_type": "code",
   "execution_count": 27,
   "metadata": {},
   "outputs": [
    {
     "name": "stdout",
     "output_type": "stream",
     "text": [
      "0.9577464788732394\n"
     ]
    }
   ],
   "source": [
    "pred_mnbtf_train=mnb.predict(x_traintf)\n",
    "print(accuracy_score(y_traintf, pred_mnbtf_train))"
   ]
  },
  {
   "cell_type": "code",
   "execution_count": 40,
   "metadata": {},
   "outputs": [
    {
     "name": "stdout",
     "output_type": "stream",
     "text": [
      "0.8651685393258427\n"
     ]
    }
   ],
   "source": [
    "pred_mnbtf_test=mnb.predict(x_testtf)\n",
    "print(accuracy_score(y_testtf, pred_mnbtf_test))"
   ]
  },
  {
   "cell_type": "code",
   "execution_count": 29,
   "metadata": {},
   "outputs": [
    {
     "data": {
      "text/html": [
       "<div>\n",
       "<style scoped>\n",
       "    .dataframe tbody tr th:only-of-type {\n",
       "        vertical-align: middle;\n",
       "    }\n",
       "\n",
       "    .dataframe tbody tr th {\n",
       "        vertical-align: top;\n",
       "    }\n",
       "\n",
       "    .dataframe thead th {\n",
       "        text-align: right;\n",
       "    }\n",
       "</style>\n",
       "<table border=\"1\" class=\"dataframe\">\n",
       "  <thead>\n",
       "    <tr style=\"text-align: right;\">\n",
       "      <th>Predicted</th>\n",
       "      <th>0</th>\n",
       "      <th>1</th>\n",
       "    </tr>\n",
       "    <tr>\n",
       "      <th>Actual</th>\n",
       "      <th></th>\n",
       "      <th></th>\n",
       "    </tr>\n",
       "  </thead>\n",
       "  <tbody>\n",
       "    <tr>\n",
       "      <th>0</th>\n",
       "      <td>39</td>\n",
       "      <td>6</td>\n",
       "    </tr>\n",
       "    <tr>\n",
       "      <th>1</th>\n",
       "      <td>6</td>\n",
       "      <td>38</td>\n",
       "    </tr>\n",
       "  </tbody>\n",
       "</table>\n",
       "</div>"
      ],
      "text/plain": [
       "Predicted   0   1\n",
       "Actual           \n",
       "0          39   6\n",
       "1           6  38"
      ]
     },
     "execution_count": 29,
     "metadata": {},
     "output_type": "execute_result"
    }
   ],
   "source": [
    "prediction_mnbtf = pd.Series(mnb.predict(x_testtf), name='Predicted')\n",
    "df_confusion_mnbtf = pd.crosstab(actual, prediction_mnbtf)\n",
    "df_confusion_mnbtf"
   ]
  },
  {
   "cell_type": "code",
   "execution_count": 43,
   "metadata": {},
   "outputs": [],
   "source": [
    "coeficients_mnbtf = pd.Series(mnb.coef_[0],\n",
    "index=tf.get_feature_names())"
   ]
  },
  {
   "cell_type": "markdown",
   "metadata": {},
   "source": [
    "The results show that the model performs similarly to the last in terms of accuracy. Furthermore, many of the same words have large coefficients."
   ]
  },
  {
   "cell_type": "markdown",
   "metadata": {},
   "source": [
    "# 3.2.2 K Nearest Neighbour "
   ]
  },
  {
   "cell_type": "code",
   "execution_count": 31,
   "metadata": {},
   "outputs": [],
   "source": [
    "knn_classifier_tf = KNeighborsClassifier(n_neighbors = 3)"
   ]
  },
  {
   "cell_type": "code",
   "execution_count": 32,
   "metadata": {},
   "outputs": [
    {
     "data": {
      "text/plain": [
       "KNeighborsClassifier(algorithm='auto', leaf_size=30, metric='minkowski',\n",
       "           metric_params=None, n_jobs=None, n_neighbors=3, p=2,\n",
       "           weights='uniform')"
      ]
     },
     "execution_count": 32,
     "metadata": {},
     "output_type": "execute_result"
    }
   ],
   "source": [
    "knn_classifier_tf.fit(x_traintf, y_traintf)"
   ]
  },
  {
   "cell_type": "code",
   "execution_count": 33,
   "metadata": {},
   "outputs": [
    {
     "name": "stdout",
     "output_type": "stream",
     "text": [
      "0.8873239436619719\n"
     ]
    }
   ],
   "source": [
    "knn_train_prediction_tf = knn_classifier_tf.predict(x_traintf)\n",
    "print(accuracy_score(y_traintf, knn_train_prediction_tf))"
   ]
  },
  {
   "cell_type": "code",
   "execution_count": 34,
   "metadata": {},
   "outputs": [
    {
     "name": "stdout",
     "output_type": "stream",
     "text": [
      "0.8089887640449438\n"
     ]
    }
   ],
   "source": [
    "knn_test_prediction_tf = knn_classifier_tf.predict(x_testtf)\n",
    "print(accuracy_score(y_testtf, knn_test_prediction_tf))"
   ]
  },
  {
   "cell_type": "markdown",
   "metadata": {},
   "source": [
    "This time, we see that the knn model performs much better than in the previous case--accuracy has increased by nearly 20%. However, this model still underperforms compared to the naive bayes. Again, there are many false negatives in which Fox News articles are being classified as Huffington Post."
   ]
  },
  {
   "cell_type": "markdown",
   "metadata": {},
   "source": [
    "# 3.2.3 Random Forest"
   ]
  },
  {
   "cell_type": "markdown",
   "metadata": {},
   "source": [
    "Lastly, the random forest is conducted a second time. "
   ]
  },
  {
   "cell_type": "code",
   "execution_count": 35,
   "metadata": {},
   "outputs": [
    {
     "data": {
      "text/plain": [
       "RandomForestClassifier(bootstrap=True, class_weight=None, criterion='gini',\n",
       "            max_depth=None, max_features='auto', max_leaf_nodes=None,\n",
       "            min_impurity_decrease=0.0, min_impurity_split=None,\n",
       "            min_samples_leaf=1, min_samples_split=2,\n",
       "            min_weight_fraction_leaf=0.0, n_estimators=10, n_jobs=None,\n",
       "            oob_score=False, random_state=None, verbose=0,\n",
       "            warm_start=False)"
      ]
     },
     "execution_count": 35,
     "metadata": {},
     "output_type": "execute_result"
    }
   ],
   "source": [
    "from sklearn.ensemble import RandomForestClassifier\n",
    "rf.fit(x_traintf, y_traintf)"
   ]
  },
  {
   "cell_type": "code",
   "execution_count": 36,
   "metadata": {},
   "outputs": [],
   "source": [
    "pred_rf_tf=rf.predict(x_testtf)"
   ]
  },
  {
   "cell_type": "code",
   "execution_count": 37,
   "metadata": {},
   "outputs": [
    {
     "data": {
      "text/plain": [
       "0.7752808988764045"
      ]
     },
     "execution_count": 37,
     "metadata": {},
     "output_type": "execute_result"
    }
   ],
   "source": [
    "count=0\n",
    "for i in range (len(pred_rf_tf)):\n",
    "    if pred_rf_tf[i]==actual[i]:\n",
    "        count=count+1\n",
    "        \n",
    "numerator=count\n",
    "denominator=len(pred_rf_tf)\n",
    "numerator/denominator "
   ]
  },
  {
   "cell_type": "code",
   "execution_count": 44,
   "metadata": {},
   "outputs": [],
   "source": [
    "feature_importances2 = pd.DataFrame(rf.feature_importances_,\n",
    "                                   index = tf.get_feature_names(),\n",
    "                                    columns=['importance']).sort_values('importance',ascending=False)"
   ]
  },
  {
   "cell_type": "markdown",
   "metadata": {},
   "source": [
    "The random forest model performs similarly to the previous version."
   ]
  },
  {
   "cell_type": "markdown",
   "metadata": {},
   "source": [
    "# 4. Conclusion"
   ]
  },
  {
   "cell_type": "markdown",
   "metadata": {},
   "source": [
    "Overall, my results show that Fox News and the Huffington Post convey a different rhetoric regarding climate change. When models were applied to tfidf vectorized data, they achieved an average accuracy of approximately 82%. This is pretty good especially when considering that the most successful model (multinomial naive bayes) predicted nearly 87% of articles correctly.  \n",
    "\n",
    "On the other hand, it is a little more difficult to pinpoint how exactly the rhetoric differs. Using the entire text of articles allowed me to leverage more data and build stronger models, but interpretation is a tall order due to the sheer amount of features. From what I did find, however, it seems that the Huffington Post tends to focus on the negative impacts that climate change has on the environment compared to Fox News. This aligns with what previous research has shown.\n",
    "\n",
    "The take away from this study is that there still exists a considerable divide between the left and right as it pertains to climate change. This argument is strengthened when combined with the results from my previous study. Ultimately, I believe both sides need to align in order to see significant progress in tackling climate change."
   ]
  },
  {
   "cell_type": "markdown",
   "metadata": {},
   "source": [
    "# 5. References"
   ]
  },
  {
   "cell_type": "markdown",
   "metadata": {},
   "source": [
    "DellaVigna, Stefano, and Ethan Kaplan. “Fox News Effect: Media Bias and Voting *.” OUP Academic, Narnia, 1 Aug. 2007, https://www.nber.org/papers/w12169.pdf.\n",
    "\n",
    "Feldman, Lauren, et al. “Climate on Cable: The Nature and Impact of Global Warming Coverage on Fox News, CNN, and MSNBC - Lauren Feldman, Edward W. Maibach, Connie Roser-Renouf, Anthony Leiserowitz, 2012.” SAGE Journals, 2 Nov. 2011, journals.sagepub.com/doi/abs/10.1177/1940161211425410.\n",
    "\n",
    "Jones, J. M. (2010). Conservatives’ doubts about global warming grow. Gallup Poll. Retrieved August 3, 2014, from http://www.gallup.com/poll/126563/conservatives-doubts-global-warming-grow.aspx\n",
    "\n",
    "Kreutzer, David. “The State of Climate Science: No Justification for Extreme Policies.” The Heritage Foundation, 22 Apr. 2016, www.heritage.org/environment/report/the-state-climate-science-no-justification-extreme-policies.\n",
    "\n",
    "Sims, Ralph. “Renewable Energy: a Response to Climate Change.” Solar Energy, Pergamon, 24 Apr. 2003, www.sciencedirect.com/science/article/pii/S0038092X03001014.\n",
    "\n",
    "University of Michigan. “Fake News,\" Lies and Propaganda: How to Sort Fact from Fiction.” Research Guides, https://guides.lib.umich.edu/c.php?g=637508&p=4462444."
   ]
  }
 ],
 "metadata": {
  "kernelspec": {
   "display_name": "Python 3",
   "language": "python",
   "name": "python3"
  },
  "language_info": {
   "codemirror_mode": {
    "name": "ipython",
    "version": 3
   },
   "file_extension": ".py",
   "mimetype": "text/x-python",
   "name": "python",
   "nbconvert_exporter": "python",
   "pygments_lexer": "ipython3",
   "version": "3.7.1"
  }
 },
 "nbformat": 4,
 "nbformat_minor": 2
}
